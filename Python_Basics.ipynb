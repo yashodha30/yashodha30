{
 "cells": [
  {
   "cell_type": "markdown",
   "id": "9d1882d1-1b10-43e8-86eb-9428d3494b8c",
   "metadata": {},
   "source": [
    "# Introduction to python "
   ]
  },
  {
   "cell_type": "code",
   "execution_count": null,
   "id": "2081c051-aaf1-4e35-89a9-78a17a1aded4",
   "metadata": {},
   "outputs": [],
   "source": [
    "--> Library (numpy)\n",
    "---> packges  (array)\n",
    "----> modules/pyfiles (matrices)\n",
    "------>classes/ fuctions (ndim)\n",
    "-------> function/ variables (rows/columns)\n",
    "---------> data(numrical) (numerical)"
   ]
  },
  {
   "cell_type": "markdown",
   "id": "4ce00fbb-404e-49cd-853f-1986ee056f11",
   "metadata": {},
   "source": [
    "## variables"
   ]
  },
  {
   "cell_type": "markdown",
   "id": "90a72fb6-ff37-46e2-becc-8ae83584f57a",
   "metadata": {},
   "source": [
    "correct way  of variable creation"
   ]
  },
  {
   "cell_type": "code",
   "execution_count": null,
   "id": "206dc62f-e489-4949-a0f0-bf4422ffbab6",
   "metadata": {},
   "outputs": [],
   "source": [
    "a = 10\n",
    "abcd = 20\n",
    "a_b = 30\n",
    "a_b_1 = 40\n",
    "data_type = 30"
   ]
  },
  {
   "cell_type": "markdown",
   "id": "4f0f2765-c630-4e53-82e5-0eb20357ddbc",
   "metadata": {},
   "source": [
    "Incorrect way of variable creation"
   ]
  },
  {
   "cell_type": "code",
   "execution_count": null,
   "id": "ff7c10ee-58cf-4a04-831e-cfdcf49e5c6f",
   "metadata": {},
   "outputs": [],
   "source": [
    " a = 10\n",
    "1a = 20\n",
    "if = 30"
   ]
  },
  {
   "cell_type": "code",
   "execution_count": 6,
   "id": "e39dedea-03fb-4fff-b373-428bf5728a7c",
   "metadata": {
    "scrolled": true
   },
   "outputs": [
    {
     "name": "stdout",
     "output_type": "stream",
     "text": [
      "['False', 'None', 'True', 'and', 'as', 'assert', 'async', 'await', 'break', 'class', 'continue', 'def', 'del', 'elif', 'else', 'except', 'finally', 'for', 'from', 'global', 'if', 'import', 'in', 'is', 'lambda', 'nonlocal', 'not', 'or', 'pass', 'raise', 'return', 'try', 'while', 'with', 'yield']\n"
     ]
    }
   ],
   "source": [
    "import keyword\n",
    "print(keyword.kwlist)"
   ]
  },
  {
   "cell_type": "markdown",
   "id": "ed6ee6b0-c601-49ef-90d7-00cdf7584fb3",
   "metadata": {},
   "source": [
    "## Data types\n",
    "1. --> int, float, bool, str, complex, object, Nonetype."
   ]
  },
  {
   "cell_type": "code",
   "execution_count": 7,
   "id": "3bf064cd-f269-4718-8379-c81f45e6c764",
   "metadata": {},
   "outputs": [],
   "source": [
    "a = 10"
   ]
  },
  {
   "cell_type": "code",
   "execution_count": 8,
   "id": "d0210e2e-bf1c-4778-8174-f7182ed2b5a6",
   "metadata": {},
   "outputs": [
    {
     "data": {
      "text/plain": [
       "int"
      ]
     },
     "execution_count": 8,
     "metadata": {},
     "output_type": "execute_result"
    }
   ],
   "source": [
    "type(a)"
   ]
  },
  {
   "cell_type": "code",
   "execution_count": 9,
   "id": "ac6b4be2-3f71-4afb-88d5-46d67eb57218",
   "metadata": {},
   "outputs": [
    {
     "data": {
      "text/plain": [
       "float"
      ]
     },
     "execution_count": 9,
     "metadata": {},
     "output_type": "execute_result"
    }
   ],
   "source": [
    "b = 10.5\n",
    "type(b)"
   ]
  },
  {
   "cell_type": "code",
   "execution_count": 11,
   "id": "9a879b83-abce-48f7-ab19-d1f643f20c88",
   "metadata": {},
   "outputs": [
    {
     "data": {
      "text/plain": [
       "bool"
      ]
     },
     "execution_count": 11,
     "metadata": {},
     "output_type": "execute_result"
    }
   ],
   "source": [
    "c = True\n",
    "type(c)"
   ]
  },
  {
   "cell_type": "code",
   "execution_count": 12,
   "id": "61ed9402-40ba-401a-8b44-cd8e3f3bcd98",
   "metadata": {},
   "outputs": [
    {
     "data": {
      "text/plain": [
       "str"
      ]
     },
     "execution_count": 12,
     "metadata": {},
     "output_type": "execute_result"
    }
   ],
   "source": [
    "d = 'syeda'\n",
    "type(d)"
   ]
  },
  {
   "cell_type": "code",
   "execution_count": 14,
   "id": "71d7f132-cacf-484f-9cf9-2777086c9544",
   "metadata": {},
   "outputs": [
    {
     "name": "stdout",
     "output_type": "stream",
     "text": [
      "(10+5j)\n"
     ]
    },
    {
     "data": {
      "text/plain": [
       "complex"
      ]
     },
     "execution_count": 14,
     "metadata": {},
     "output_type": "execute_result"
    }
   ],
   "source": [
    "e = 10+5j\n",
    "print(e)\n",
    "type(e)"
   ]
  },
  {
   "cell_type": "code",
   "execution_count": 15,
   "id": "1112e7f5-784f-4c6b-bae7-54dfc2342f4d",
   "metadata": {},
   "outputs": [
    {
     "data": {
      "text/plain": [
       "NoneType"
      ]
     },
     "execution_count": 15,
     "metadata": {},
     "output_type": "execute_result"
    }
   ],
   "source": [
    "f = None\n",
    "type(f)"
   ]
  },
  {
   "cell_type": "code",
   "execution_count": null,
   "id": "1febf9fc-edfc-4c17-8d4f-34f54c1d3ec1",
   "metadata": {},
   "outputs": [],
   "source": [
    "# string data\n",
    "1. '' --> word\n",
    "2. \"\" --> statments\n",
    "3. \"\"\"\"\"\"/'''''' --> paragraphs/multiline."
   ]
  },
  {
   "cell_type": "code",
   "execution_count": 16,
   "id": "38c0c344-c4fb-4852-9c5c-6656e20c8267",
   "metadata": {},
   "outputs": [
    {
     "data": {
      "text/plain": [
       "str"
      ]
     },
     "execution_count": 16,
     "metadata": {},
     "output_type": "execute_result"
    }
   ],
   "source": [
    "name = 'syeda'\n",
    "type(name)"
   ]
  },
  {
   "cell_type": "code",
   "execution_count": 18,
   "id": "79572c28-7d65-4d84-9e69-611a045345c4",
   "metadata": {},
   "outputs": [
    {
     "data": {
      "text/plain": [
       "str"
      ]
     },
     "execution_count": 18,
     "metadata": {},
     "output_type": "execute_result"
    }
   ],
   "source": [
    "info = \"my name is syeda, syeda's class is going on.\"\n",
    "type(info)"
   ]
  },
  {
   "cell_type": "code",
   "execution_count": 29,
   "id": "4cecb7ba-6647-4354-8ed2-3d2c8db448fa",
   "metadata": {},
   "outputs": [
    {
     "data": {
      "text/plain": [
       "str"
      ]
     },
     "execution_count": 29,
     "metadata": {},
     "output_type": "execute_result"
    }
   ],
   "source": [
    "info_data = \"\"\"my name is syeda, syeda's class is going on.\n",
    "DS class started for python\n",
    "Programming\"\"\"\n",
    "type(info_data)"
   ]
  },
  {
   "cell_type": "code",
   "execution_count": 30,
   "id": "6f770d6a-7590-44ca-901c-6503af5a69b3",
   "metadata": {},
   "outputs": [
    {
     "name": "stdout",
     "output_type": "stream",
     "text": [
      "my name is syeda, syeda's class is going on.\n"
     ]
    }
   ],
   "source": [
    "# comment\n",
    "info = \"my name is syeda, syeda's class is going on.\" # info\n",
    "print(info)"
   ]
  },
  {
   "cell_type": "code",
   "execution_count": 23,
   "id": "dff138c5-e7c6-4a05-a5bd-7cc6a09169ff",
   "metadata": {},
   "outputs": [
    {
     "name": "stdout",
     "output_type": "stream",
     "text": [
      "my name is syeda, syeda's class is going on.\n",
      "DS class started for python\n",
      "Programming\n"
     ]
    }
   ],
   "source": [
    "print(info_data)"
   ]
  },
  {
   "cell_type": "code",
   "execution_count": 24,
   "id": "699c1287-5d2d-4941-8481-80a3f826d402",
   "metadata": {},
   "outputs": [
    {
     "data": {
      "text/plain": [
       "\"MY NAME IS SYEDA, SYEDA'S CLASS IS GOING ON.\\nDS CLASS STARTED FOR PYTHON\\nPROGRAMMING\""
      ]
     },
     "execution_count": 24,
     "metadata": {},
     "output_type": "execute_result"
    }
   ],
   "source": [
    "info_data.upper()"
   ]
  },
  {
   "cell_type": "code",
   "execution_count": 25,
   "id": "59dcbd4c-3838-4973-a62a-ca9c54021812",
   "metadata": {},
   "outputs": [
    {
     "data": {
      "text/plain": [
       "\"my name is syeda, syeda's class is going on.\\nds class started for python\\nprogramming\""
      ]
     },
     "execution_count": 25,
     "metadata": {},
     "output_type": "execute_result"
    }
   ],
   "source": [
    "info_data.lower()"
   ]
  },
  {
   "cell_type": "code",
   "execution_count": 26,
   "id": "0d1d41f7-56d7-4106-9db1-b3af83b5eb2a",
   "metadata": {},
   "outputs": [
    {
     "data": {
      "text/plain": [
       "\"My name is syeda, syeda's class is going on.\\nds class started for python\\nprogramming\""
      ]
     },
     "execution_count": 26,
     "metadata": {},
     "output_type": "execute_result"
    }
   ],
   "source": [
    "info_data.capitalize()"
   ]
  },
  {
   "cell_type": "code",
   "execution_count": 27,
   "id": "83a71136-843f-4e7b-8bd9-b8505824906d",
   "metadata": {},
   "outputs": [
    {
     "data": {
      "text/plain": [
       "\"MY NAME IS SYEDA, SYEDA'S CLASS IS GOING ON.\\nds CLASS STARTED FOR PYTHON\\npROGRAMMING\""
      ]
     },
     "execution_count": 27,
     "metadata": {},
     "output_type": "execute_result"
    }
   ],
   "source": [
    "info_data.swapcase()"
   ]
  },
  {
   "cell_type": "code",
   "execution_count": 28,
   "id": "96ec631b-34f1-4021-8b8b-4599bb742ef3",
   "metadata": {},
   "outputs": [
    {
     "data": {
      "text/plain": [
       "\"my name is syeda, syeda's class is going on.\\nds class started for python\\nprogramming\""
      ]
     },
     "execution_count": 28,
     "metadata": {},
     "output_type": "execute_result"
    }
   ],
   "source": [
    "info_data.casefold()"
   ]
  },
  {
   "cell_type": "code",
   "execution_count": 33,
   "id": "b59581d7-5bcb-403b-ad58-cc300f9b0b82",
   "metadata": {},
   "outputs": [
    {
     "data": {
      "text/plain": [
       "(True, False)"
      ]
     },
     "execution_count": 33,
     "metadata": {},
     "output_type": "execute_result"
    }
   ],
   "source": [
    "# checks the string which its starts and ends.\n",
    "info_data.startswith('m'), info_data.startswith('a')"
   ]
  },
  {
   "cell_type": "code",
   "execution_count": 35,
   "id": "d0ad6038-2acd-4b0e-b0da-0d0fda389856",
   "metadata": {},
   "outputs": [
    {
     "data": {
      "text/plain": [
       "(True, False)"
      ]
     },
     "execution_count": 35,
     "metadata": {},
     "output_type": "execute_result"
    }
   ],
   "source": [
    "info_data.endswith('g'),info_data.endswith('.')"
   ]
  },
  {
   "cell_type": "code",
   "execution_count": 36,
   "id": "e4564e96-4000-44ae-be31-17719cde146b",
   "metadata": {},
   "outputs": [
    {
     "data": {
      "text/plain": [
       "\"my name is syeda, syeda's class is going on.\\nDS class started for python\\nProgramming\""
      ]
     },
     "execution_count": 36,
     "metadata": {},
     "output_type": "execute_result"
    }
   ],
   "source": [
    "info_data"
   ]
  },
  {
   "cell_type": "code",
   "execution_count": 39,
   "id": "cf4575b6-2807-4926-a173-f1da0601ee9d",
   "metadata": {},
   "outputs": [
    {
     "data": {
      "text/plain": [
       "[\"my name is syeda, syeda's class is going on.\",\n",
       " 'DS class started for python',\n",
       " 'Programming']"
      ]
     },
     "execution_count": 39,
     "metadata": {},
     "output_type": "execute_result"
    }
   ],
   "source": [
    "data = info_data.split('\\n')\n",
    "data"
   ]
  },
  {
   "cell_type": "code",
   "execution_count": 40,
   "id": "ba5b8bdb-34b0-41b0-badd-7f3ef7392d39",
   "metadata": {},
   "outputs": [],
   "source": [
    "str1 = ' string'\n",
    "str2 = 'string '\n",
    "str3 = ' string '"
   ]
  },
  {
   "cell_type": "code",
   "execution_count": 44,
   "id": "93915b3e-cf83-4277-9841-478d2f10c9dc",
   "metadata": {},
   "outputs": [
    {
     "data": {
      "text/plain": [
       "('string', 'string', 'string')"
      ]
     },
     "execution_count": 44,
     "metadata": {},
     "output_type": "execute_result"
    }
   ],
   "source": [
    "str1.lstrip(),str2.rstrip(),str3.strip()"
   ]
  },
  {
   "cell_type": "code",
   "execution_count": 45,
   "id": "0a1460fa-c04f-4f07-8284-cc6ece2b552b",
   "metadata": {},
   "outputs": [
    {
     "data": {
      "text/plain": [
       "'Data information'"
      ]
     },
     "execution_count": 45,
     "metadata": {},
     "output_type": "execute_result"
    }
   ],
   "source": [
    "str4 = 'Data science'\n",
    "str4.replace('science','information')"
   ]
  },
  {
   "cell_type": "code",
   "execution_count": null,
   "id": "3aeec700-2fbe-4f3a-a4c2-f88ab1a98bd4",
   "metadata": {},
   "outputs": [],
   "source": [
    "str.isalnum, str.isalpha, str.isascii, str.isdecimal,str.isnumeric, str.isupper, str.islower"
   ]
  },
  {
   "cell_type": "code",
   "execution_count": 54,
   "id": "13452812-4e59-4299-bc36-a4db3b1dfc56",
   "metadata": {},
   "outputs": [
    {
     "data": {
      "text/plain": [
       "True"
      ]
     },
     "execution_count": 54,
     "metadata": {},
     "output_type": "execute_result"
    }
   ],
   "source": [
    "a = 'abcd123'\n",
    "a.isalnum()"
   ]
  },
  {
   "cell_type": "code",
   "execution_count": 47,
   "id": "4a11ba37-ff20-4f45-bfe9-f244133d3b10",
   "metadata": {},
   "outputs": [
    {
     "data": {
      "text/plain": [
       "False"
      ]
     },
     "execution_count": 47,
     "metadata": {},
     "output_type": "execute_result"
    }
   ],
   "source": [
    "a.isalpha()"
   ]
  },
  {
   "cell_type": "code",
   "execution_count": 49,
   "id": "2f115c9d-d371-4d35-9f0d-28371319dca9",
   "metadata": {},
   "outputs": [
    {
     "data": {
      "text/plain": [
       "True"
      ]
     },
     "execution_count": 49,
     "metadata": {},
     "output_type": "execute_result"
    }
   ],
   "source": [
    "b = 'abcd'\n",
    "b.isalpha()"
   ]
  },
  {
   "cell_type": "code",
   "execution_count": 52,
   "id": "79861531-1921-4aca-8b20-9b7589d29214",
   "metadata": {
    "scrolled": true
   },
   "outputs": [
    {
     "data": {
      "text/plain": [
       "(True, True, True)"
      ]
     },
     "execution_count": 52,
     "metadata": {},
     "output_type": "execute_result"
    }
   ],
   "source": [
    "a.isascii(),b.isascii(),str4.isascii()"
   ]
  },
  {
   "cell_type": "code",
   "execution_count": 56,
   "id": "2c555f5e-f4fd-4de0-9a4d-a5b0d1434e54",
   "metadata": {
    "scrolled": true
   },
   "outputs": [
    {
     "data": {
      "text/plain": [
       "True"
      ]
     },
     "execution_count": 56,
     "metadata": {},
     "output_type": "execute_result"
    }
   ],
   "source": [
    "c = '2'\n",
    "c.isdecimal()"
   ]
  },
  {
   "cell_type": "code",
   "execution_count": 57,
   "id": "f5810990-2ec6-4dc2-a1d5-35db1862184b",
   "metadata": {
    "scrolled": true
   },
   "outputs": [
    {
     "data": {
      "text/plain": [
       "True"
      ]
     },
     "execution_count": 57,
     "metadata": {},
     "output_type": "execute_result"
    }
   ],
   "source": [
    "c.isnumeric()"
   ]
  },
  {
   "cell_type": "code",
   "execution_count": 58,
   "id": "b6470801-86f7-4ee6-acab-0d2412aca9b0",
   "metadata": {
    "scrolled": true
   },
   "outputs": [
    {
     "data": {
      "text/plain": [
       "True"
      ]
     },
     "execution_count": 58,
     "metadata": {},
     "output_type": "execute_result"
    }
   ],
   "source": [
    "d = 'UPPER'\n",
    "d.isupper()"
   ]
  },
  {
   "cell_type": "code",
   "execution_count": 62,
   "id": "f41cd147-ff18-40b1-bac8-bd679a7fdfd4",
   "metadata": {
    "scrolled": true
   },
   "outputs": [
    {
     "data": {
      "text/plain": [
       "True"
      ]
     },
     "execution_count": 62,
     "metadata": {},
     "output_type": "execute_result"
    }
   ],
   "source": [
    "e = 'lower'\n",
    "e.islower()"
   ]
  },
  {
   "cell_type": "code",
   "execution_count": 61,
   "id": "c2df62e5-8139-41a4-bae7-edd9f8fe9f8f",
   "metadata": {},
   "outputs": [
    {
     "data": {
      "text/plain": [
       "True"
      ]
     },
     "execution_count": 61,
     "metadata": {},
     "output_type": "execute_result"
    }
   ],
   "source": [
    "f = ' '\n",
    "f.isspace()"
   ]
  },
  {
   "cell_type": "code",
   "execution_count": 63,
   "id": "f5b6b5df-862c-4cc1-bc0d-89b9db49abe1",
   "metadata": {},
   "outputs": [
    {
     "data": {
      "text/plain": [
       "'Data science'"
      ]
     },
     "execution_count": 63,
     "metadata": {},
     "output_type": "execute_result"
    }
   ],
   "source": [
    "str4"
   ]
  },
  {
   "cell_type": "code",
   "execution_count": 64,
   "id": "2c8a4b95-adfb-47c3-b1f8-48d1c8506777",
   "metadata": {},
   "outputs": [
    {
     "data": {
      "text/plain": [
       "12"
      ]
     },
     "execution_count": 64,
     "metadata": {},
     "output_type": "execute_result"
    }
   ],
   "source": [
    "len(str4)"
   ]
  },
  {
   "cell_type": "code",
   "execution_count": 69,
   "id": "55fce4f1-94e3-47f3-8740-9333d96c9397",
   "metadata": {},
   "outputs": [
    {
     "data": {
      "text/plain": [
       "1"
      ]
     },
     "execution_count": 69,
     "metadata": {},
     "output_type": "execute_result"
    }
   ],
   "source": [
    "str4.count('D')"
   ]
  },
  {
   "cell_type": "code",
   "execution_count": 72,
   "id": "3252da83-4f58-4c65-bdda-3fd08dc32111",
   "metadata": {},
   "outputs": [
    {
     "data": {
      "text/plain": [
       "(6, 6)"
      ]
     },
     "execution_count": 72,
     "metadata": {},
     "output_type": "execute_result"
    }
   ],
   "source": [
    "str4.index('c'), str4.find('c')"
   ]
  },
  {
   "cell_type": "code",
   "execution_count": 73,
   "id": "d214778d-0ff2-4362-b833-c18d1464f24a",
   "metadata": {},
   "outputs": [
    {
     "data": {
      "text/plain": [
       "'UPPER'"
      ]
     },
     "execution_count": 73,
     "metadata": {},
     "output_type": "execute_result"
    }
   ],
   "source": [
    "d"
   ]
  },
  {
   "cell_type": "code",
   "execution_count": 76,
   "id": "8f561d95-2041-4b0f-97af-4e45846e6218",
   "metadata": {},
   "outputs": [
    {
     "data": {
      "text/plain": [
       "('UPPERaaaaa', '#####UPPER', '###UPPER####')"
      ]
     },
     "execution_count": 76,
     "metadata": {},
     "output_type": "execute_result"
    }
   ],
   "source": [
    "d.ljust(10,'a'),d.rjust(10,'#'),d.center(12,'#')"
   ]
  },
  {
   "cell_type": "code",
   "execution_count": 77,
   "id": "0d346770-2e17-4a18-9c4e-a241cf766eed",
   "metadata": {
    "scrolled": true
   },
   "outputs": [
    {
     "ename": "TypeError",
     "evalue": "unbound method str.format() needs an argument",
     "output_type": "error",
     "traceback": [
      "\u001b[1;31m--------------------------------------------------------------------\u001b[0m",
      "\u001b[1;31mTypeError\u001b[0m                          Traceback (most recent call last)",
      "Cell \u001b[1;32mIn[77], line 3\u001b[0m\n\u001b[0;32m      1\u001b[0m \u001b[38;5;66;03m# format function\u001b[39;00m\n\u001b[1;32m----> 3\u001b[0m \u001b[38;5;28;43mstr\u001b[39;49m\u001b[38;5;241;43m.\u001b[39;49m\u001b[43mformat\u001b[49m\u001b[43m(\u001b[49m\u001b[43m)\u001b[49m\n",
      "\u001b[1;31mTypeError\u001b[0m: unbound method str.format() needs an argument"
     ]
    }
   ],
   "source": [
    "# format function\n",
    "str.format()"
   ]
  },
  {
   "cell_type": "code",
   "execution_count": 80,
   "id": "78cf511c-1dae-4bfb-a3d4-1e8549aa23b2",
   "metadata": {},
   "outputs": [
    {
     "data": {
      "text/plain": [
       "'My name is syedasyeda'"
      ]
     },
     "execution_count": 80,
     "metadata": {},
     "output_type": "execute_result"
    }
   ],
   "source": [
    "name = 'syeda'\n",
    "'My name is {}{}'.format(name,name)"
   ]
  },
  {
   "cell_type": "code",
   "execution_count": 81,
   "id": "05981f45-7fda-46ce-825b-419ca970d524",
   "metadata": {},
   "outputs": [],
   "source": [
    "name = 'sam'\n",
    "age = 23\n",
    "wight = 52"
   ]
  },
  {
   "cell_type": "code",
   "execution_count": 86,
   "id": "4e82fbe0-5e03-4453-a8dc-def1a318e71d",
   "metadata": {},
   "outputs": [],
   "source": [
    "statment = '''My name is {},\n",
    "My age is {}\n",
    "My weight is {}'''.format(name,age,wight)"
   ]
  },
  {
   "cell_type": "code",
   "execution_count": 87,
   "id": "2f10d299-5e22-457c-92e7-4a050f135cbd",
   "metadata": {
    "scrolled": true
   },
   "outputs": [
    {
     "name": "stdout",
     "output_type": "stream",
     "text": [
      "My name is sam,\n",
      "My age is 23\n",
      "My weight is 52\n"
     ]
    }
   ],
   "source": [
    "print(statment)"
   ]
  },
  {
   "cell_type": "code",
   "execution_count": 95,
   "id": "5354a5ed-c93e-4b14-b37b-17ff38b90d90",
   "metadata": {},
   "outputs": [
    {
     "name": "stdin",
     "output_type": "stream",
     "text": [
      " 56\n"
     ]
    }
   ],
   "source": [
    "# user input()\n",
    "name = input()"
   ]
  },
  {
   "cell_type": "code",
   "execution_count": 98,
   "id": "d53b796a-1934-4ac1-a43d-e1e4e9467ace",
   "metadata": {},
   "outputs": [
    {
     "name": "stdin",
     "output_type": "stream",
     "text": [
      " sam\n",
      " 23\n",
      " 56\n"
     ]
    },
    {
     "name": "stdout",
     "output_type": "stream",
     "text": [
      "My name is sam,\n",
      "My age is 2323\n",
      "My weight is 56\n"
     ]
    }
   ],
   "source": [
    "name = input()\n",
    "age = input()\n",
    "wight = input()\n",
    "statment = '''My name is {},\n",
    "My age is {}\n",
    "My weight is {}'''.format(name,age*2,wight)\n",
    "print(statment)"
   ]
  },
  {
   "cell_type": "code",
   "execution_count": 100,
   "id": "6109568b-e99c-47be-ad98-b6005bcd6312",
   "metadata": {},
   "outputs": [],
   "source": [
    "# type casting --> int()\n",
    "a = 10\n",
    "b = '10'\n",
    "c = 10.5\n",
    "d = 10+5j"
   ]
  },
  {
   "cell_type": "code",
   "execution_count": 105,
   "id": "d58f570c-145f-497a-afc5-f48df9808dd4",
   "metadata": {},
   "outputs": [
    {
     "data": {
      "text/plain": [
       "(10, 10, 10)"
      ]
     },
     "execution_count": 105,
     "metadata": {},
     "output_type": "execute_result"
    }
   ],
   "source": [
    "int(a),int(b),int(c)"
   ]
  },
  {
   "cell_type": "code",
   "execution_count": 109,
   "id": "9579ca94-5bdc-48d2-b312-21a17133513d",
   "metadata": {},
   "outputs": [
    {
     "data": {
      "text/plain": [
       "(10.0, 10.0, 10.5)"
      ]
     },
     "execution_count": 109,
     "metadata": {},
     "output_type": "execute_result"
    }
   ],
   "source": [
    "# floating --> float()\n",
    "float(a),float(b),float(c)"
   ]
  },
  {
   "cell_type": "code",
   "execution_count": 111,
   "id": "cfa23984-2a28-4c30-893f-6f142ca239d3",
   "metadata": {},
   "outputs": [
    {
     "data": {
      "text/plain": [
       "('10', '10.5', '(10+5j)')"
      ]
     },
     "execution_count": 111,
     "metadata": {},
     "output_type": "execute_result"
    }
   ],
   "source": [
    "# string --> str()\n",
    "str(a),str(c),str(d)"
   ]
  },
  {
   "cell_type": "code",
   "execution_count": 114,
   "id": "d3c737c2-b501-4f99-b28a-43d61c8d5952",
   "metadata": {},
   "outputs": [
    {
     "data": {
      "text/plain": [
       "((10+0j), (10+0j), (10.5+0j))"
      ]
     },
     "execution_count": 114,
     "metadata": {},
     "output_type": "execute_result"
    }
   ],
   "source": [
    "complex(a),complex(b),complex(c)"
   ]
  },
  {
   "cell_type": "code",
   "execution_count": 115,
   "id": "a400d69e-8572-4302-9515-205969e06462",
   "metadata": {
    "scrolled": true
   },
   "outputs": [
    {
     "name": "stdin",
     "output_type": "stream",
     "text": [
      " syeda\n",
      " 26\n",
      " 45.69\n"
     ]
    },
    {
     "name": "stdout",
     "output_type": "stream",
     "text": [
      "My name is syeda,\n",
      "My age is 52\n",
      "My weight is 45.69\n"
     ]
    }
   ],
   "source": [
    "name = input()\n",
    "age = int(input())\n",
    "wight = float(input())\n",
    "statment = '''My name is {},\n",
    "My age is {}\n",
    "My weight is {}'''.format(name,age*2,wight)\n",
    "print(statment)"
   ]
  },
  {
   "cell_type": "code",
   "execution_count": 116,
   "id": "0f1f35be-afbe-4dc7-9166-e79f9daf6427",
   "metadata": {},
   "outputs": [],
   "source": [
    "# string concatination\n",
    "st1 = 'this is the 1st  statement'\n",
    "st2 = 'This is the 2nd statement'"
   ]
  },
  {
   "cell_type": "code",
   "execution_count": 118,
   "id": "80ca025d-11cf-4e9f-bea6-b04112f911fd",
   "metadata": {},
   "outputs": [
    {
     "data": {
      "text/plain": [
       "'this is the 1st  statementThis is the 2nd statement'"
      ]
     },
     "execution_count": 118,
     "metadata": {},
     "output_type": "execute_result"
    }
   ],
   "source": [
    "st1 + st2"
   ]
  },
  {
   "cell_type": "code",
   "execution_count": 119,
   "id": "1eeee73b-2497-4a01-9708-41a3829bd6c6",
   "metadata": {},
   "outputs": [
    {
     "data": {
      "text/plain": [
       "'this is the 1st  statement This is the 2nd statement'"
      ]
     },
     "execution_count": 119,
     "metadata": {},
     "output_type": "execute_result"
    }
   ],
   "source": [
    "st1 + ' '  + st2"
   ]
  },
  {
   "cell_type": "code",
   "execution_count": 121,
   "id": "1dd47a83-eb7d-436a-9f7b-4edf71dfbde0",
   "metadata": {},
   "outputs": [
    {
     "data": {
      "text/plain": [
       "'T12365h12365i12365s12365 12365i12365s12365 12365t12365h12365e12365 12365212365n12365d12365 12365s12365t12365a12365t12365e12365m12365e12365n12365t'"
      ]
     },
     "execution_count": 121,
     "metadata": {},
     "output_type": "execute_result"
    }
   ],
   "source": [
    "'12365'.join(st2)"
   ]
  },
  {
   "cell_type": "code",
   "execution_count": 122,
   "id": "6a0f8546-09c2-48cf-8c2c-7aca0f892db8",
   "metadata": {},
   "outputs": [
    {
     "data": {
      "text/plain": [
       "' This is the 2nd statement-This is the 2nd statement-This is the 2nd statement-This is the 2nd statement>This is the 2nd statement '"
      ]
     },
     "execution_count": 122,
     "metadata": {},
     "output_type": "execute_result"
    }
   ],
   "source": [
    "st2.join(' ---> ')"
   ]
  },
  {
   "cell_type": "code",
   "execution_count": 124,
   "id": "25cd926e-10b3-440b-8fe8-22a37f987a55",
   "metadata": {},
   "outputs": [
    {
     "data": {
      "text/plain": [
       "'0This is the 2nd statement\\n'"
      ]
     },
     "execution_count": 124,
     "metadata": {},
     "output_type": "execute_result"
    }
   ],
   "source": [
    "st2.join('0\\n')"
   ]
  },
  {
   "cell_type": "markdown",
   "id": "3dcd382d-54f4-4a86-b7a5-3be6474a25b7",
   "metadata": {},
   "source": [
    "1.create a name in str and number in integer, \n",
    "and use the print to given the message and operate with the arthemetic operatations."
   ]
  },
  {
   "cell_type": "code",
   "execution_count": null,
   "id": "eb50e75f-9a00-4789-9d6c-93c65d45aa9c",
   "metadata": {},
   "outputs": [],
   "source": [
    "Arthemetic operation\n",
    "add --> +\n",
    "sub --> -\n",
    "mul --> *\n",
    "power --> **\n",
    "div --> /\n",
    "floor --> //\n",
    "reminder --> %  "
   ]
  },
  {
   "cell_type": "code",
   "execution_count": 133,
   "id": "b7d612f8-43fa-4bfb-9ec5-8dc1617ef24b",
   "metadata": {},
   "outputs": [
    {
     "data": {
      "text/plain": [
       "(4, 2, 8, 16, 4.0, 1, 1)"
      ]
     },
     "execution_count": 133,
     "metadata": {},
     "output_type": "execute_result"
    }
   ],
   "source": [
    "2+2,4-2,4*2,4**2,8/2,3//2,3%2"
   ]
  },
  {
   "cell_type": "code",
   "execution_count": 135,
   "id": "79ae40b7-d7bf-4b29-8081-8fcbeb70c1f0",
   "metadata": {},
   "outputs": [
    {
     "data": {
      "text/plain": [
       "(1.5, 1)"
      ]
     },
     "execution_count": 135,
     "metadata": {},
     "output_type": "execute_result"
    }
   ],
   "source": [
    "3/2,3//2"
   ]
  },
  {
   "cell_type": "markdown",
   "id": "68e39452-66c1-4d96-b7c3-d2c82f80b947",
   "metadata": {},
   "source": [
    "Task 2: create a 3 user defined function with parameters, r, B,h, taking value by the user input, and calculate the \n",
    "valume spear --> v = 4/3 * math.pi * r**3 \n",
    "area of triangle --> A = 1/2 *b * h\n",
    "distance of two points --> d = math.sqrt((x2 - x1)**2 + (y2 - y1)**2))\n",
    "Slope of line --> m = (y2 - y1) / (x2 - x1)\n",
    "\n",
    "hint:\n",
    "import math\n",
    "math.pi\n",
    "math.e\n",
    "math.sqrt\n"
   ]
  },
  {
   "cell_type": "code",
   "execution_count": 137,
   "id": "760b96ee-eb43-422d-a171-2d0b6fe2ff6d",
   "metadata": {},
   "outputs": [
    {
     "data": {
      "text/plain": [
       "(3.141592653589793, 2.718281828459045)"
      ]
     },
     "execution_count": 137,
     "metadata": {},
     "output_type": "execute_result"
    }
   ],
   "source": [
    "import math\n",
    "math.pi,math.e"
   ]
  },
  {
   "cell_type": "code",
   "execution_count": 139,
   "id": "9fc87507-2374-452b-8ee2-51c8fc2064d5",
   "metadata": {},
   "outputs": [
    {
     "name": "stdin",
     "output_type": "stream",
     "text": [
      "Enter the r value:  6\n"
     ]
    },
    {
     "name": "stdout",
     "output_type": "stream",
     "text": [
      "904.78\n"
     ]
    }
   ],
   "source": [
    "r = int(input('Enter the r value: '))\n",
    "v = round(4/3 * math.pi * r**3,2)\n",
    "print(v)"
   ]
  },
  {
   "cell_type": "code",
   "execution_count": null,
   "id": "d19cde09-278a-496a-9415-484bc9cd948d",
   "metadata": {},
   "outputs": [],
   "source": [
    "# Data structures\n",
    "--> list, tuple, set, dictionary\n",
    "List: \n",
    "    creating --> [],list()\n",
    "    list mutable--> manipulation of the cata is possible.\n",
    "    list data can be stored diffrent types of data\n",
    "    \n",
    "tuple:\n",
    "    creating--> comma seperated will values create tuple, (), tuple()\n",
    "    tuple immutable --> cannt changes\n",
    "    tuple data can be stored diffrent types of data\n",
    "\n",
    "set:\n",
    "    creating --> {}, set()\n",
    "    defult data will be written in ascending order, unique values.\n",
    "    set is not present on the basis of index, \n",
    "    Funtions can be utilized to manipultaion\n",
    "Dict:\n",
    "    create using {}, dict()\n",
    "    defualt values, key:value pair\n",
    "        key: unique , (int, str)\n",
    "        values: single, list/tuple/set\n",
    "    dict is mutable, we can make changes only for values not key.        \n",
    "    \n"
   ]
  },
  {
   "cell_type": "markdown",
   "id": "ee3fc4e1",
   "metadata": {},
   "source": [
    "# list"
   ]
  },
  {
   "cell_type": "code",
   "execution_count": 1,
   "id": "ad6f34a6",
   "metadata": {},
   "outputs": [
    {
     "name": "stdout",
     "output_type": "stream",
     "text": [
      "[1, 2, 3, 4, 5, 6]\n"
     ]
    }
   ],
   "source": [
    "List1 = [1,2,3,4,5,6]\n",
    "print(List1)"
   ]
  },
  {
   "cell_type": "code",
   "execution_count": 2,
   "id": "d9cb65de",
   "metadata": {},
   "outputs": [
    {
     "data": {
      "text/plain": [
       "list"
      ]
     },
     "execution_count": 2,
     "metadata": {},
     "output_type": "execute_result"
    }
   ],
   "source": [
    "type(List1)"
   ]
  },
  {
   "cell_type": "code",
   "execution_count": 3,
   "id": "f9eb12f3",
   "metadata": {},
   "outputs": [],
   "source": [
    "# indexing/ slicing [0,1,2,....] [strt:end:step]"
   ]
  },
  {
   "cell_type": "code",
   "execution_count": 9,
   "id": "f50b8119",
   "metadata": {},
   "outputs": [
    {
     "data": {
      "text/plain": [
       "(1, 2, 3, 4, 5, 6)"
      ]
     },
     "execution_count": 9,
     "metadata": {},
     "output_type": "execute_result"
    }
   ],
   "source": [
    "List1[0],List1[1],List1[2],List1[3],List1[4],List1[5]"
   ]
  },
  {
   "cell_type": "code",
   "execution_count": 18,
   "id": "84741774",
   "metadata": {},
   "outputs": [
    {
     "data": {
      "text/plain": [
       "[1, 2, 3, 4, 5, 6]"
      ]
     },
     "execution_count": 18,
     "metadata": {},
     "output_type": "execute_result"
    }
   ],
   "source": [
    "List1[0:]  # --> all data selection"
   ]
  },
  {
   "cell_type": "code",
   "execution_count": 19,
   "id": "82f6a3f1",
   "metadata": {},
   "outputs": [
    {
     "data": {
      "text/plain": [
       "[5, 6]"
      ]
     },
     "execution_count": 19,
     "metadata": {},
     "output_type": "execute_result"
    }
   ],
   "source": [
    "List1[4:]"
   ]
  },
  {
   "cell_type": "code",
   "execution_count": 23,
   "id": "5c893913",
   "metadata": {},
   "outputs": [
    {
     "data": {
      "text/plain": [
       "[1, 2, 3, 4, 5, 6]"
      ]
     },
     "execution_count": 23,
     "metadata": {},
     "output_type": "execute_result"
    }
   ],
   "source": [
    "List1"
   ]
  },
  {
   "cell_type": "code",
   "execution_count": 21,
   "id": "ca99ad51",
   "metadata": {},
   "outputs": [
    {
     "data": {
      "text/plain": [
       "[1, 3, 5]"
      ]
     },
     "execution_count": 21,
     "metadata": {},
     "output_type": "execute_result"
    }
   ],
   "source": [
    "List1[0:5:2]"
   ]
  },
  {
   "cell_type": "code",
   "execution_count": 22,
   "id": "96630beb",
   "metadata": {},
   "outputs": [
    {
     "data": {
      "text/plain": [
       "[1, 4]"
      ]
     },
     "execution_count": 22,
     "metadata": {},
     "output_type": "execute_result"
    }
   ],
   "source": [
    "List1[0:5:3]"
   ]
  },
  {
   "cell_type": "code",
   "execution_count": 26,
   "id": "62ab9b4d",
   "metadata": {},
   "outputs": [
    {
     "data": {
      "text/plain": [
       "[1, 2, 3, 4, 5, 6]"
      ]
     },
     "execution_count": 26,
     "metadata": {},
     "output_type": "execute_result"
    }
   ],
   "source": [
    "List1[::1]"
   ]
  },
  {
   "cell_type": "code",
   "execution_count": 29,
   "id": "6894f65a",
   "metadata": {},
   "outputs": [
    {
     "data": {
      "text/plain": [
       "([1, 2, 3, 4, 5, 6], [1, 2, 3, 4, 5, 6], [1, 2, 3, 4, 5, 6])"
      ]
     },
     "execution_count": 29,
     "metadata": {},
     "output_type": "execute_result"
    }
   ],
   "source": [
    "List1,List1[:],List1[::] # --> slection of all data."
   ]
  },
  {
   "cell_type": "markdown",
   "id": "768d6a3a",
   "metadata": {},
   "source": [
    "# negative indexing"
   ]
  },
  {
   "cell_type": "code",
   "execution_count": 30,
   "id": "e1cf6af2",
   "metadata": {},
   "outputs": [
    {
     "data": {
      "text/plain": [
       "[1, 2, 3, 4, 5, 6]"
      ]
     },
     "execution_count": 30,
     "metadata": {},
     "output_type": "execute_result"
    }
   ],
   "source": [
    "List1"
   ]
  },
  {
   "cell_type": "code",
   "execution_count": 32,
   "id": "fae89a0c",
   "metadata": {},
   "outputs": [
    {
     "data": {
      "text/plain": [
       "[3, 4, 5]"
      ]
     },
     "execution_count": 32,
     "metadata": {},
     "output_type": "execute_result"
    }
   ],
   "source": [
    "List1[-4:-1]"
   ]
  },
  {
   "cell_type": "code",
   "execution_count": 34,
   "id": "cbdaab7b",
   "metadata": {},
   "outputs": [
    {
     "data": {
      "text/plain": [
       "[1, 2, 3]"
      ]
     },
     "execution_count": 34,
     "metadata": {},
     "output_type": "execute_result"
    }
   ],
   "source": [
    "List1[-6:-3]"
   ]
  },
  {
   "cell_type": "markdown",
   "id": "635eaafb",
   "metadata": {},
   "source": [
    "## Reversing the list"
   ]
  },
  {
   "cell_type": "code",
   "execution_count": 35,
   "id": "6dee3160",
   "metadata": {},
   "outputs": [
    {
     "data": {
      "text/plain": [
       "[1, 2, 3, 4, 5, 6]"
      ]
     },
     "execution_count": 35,
     "metadata": {},
     "output_type": "execute_result"
    }
   ],
   "source": [
    "List1"
   ]
  },
  {
   "cell_type": "code",
   "execution_count": 36,
   "id": "d2b2ca42",
   "metadata": {},
   "outputs": [
    {
     "data": {
      "text/plain": [
       "[6, 5, 4, 3, 2, 1]"
      ]
     },
     "execution_count": 36,
     "metadata": {},
     "output_type": "execute_result"
    }
   ],
   "source": [
    "List1[::-1]"
   ]
  },
  {
   "cell_type": "markdown",
   "id": "d980a679",
   "metadata": {},
   "source": [
    "### assignment of value to index."
   ]
  },
  {
   "cell_type": "code",
   "execution_count": 38,
   "id": "81107ee9",
   "metadata": {},
   "outputs": [],
   "source": [
    "List1[3] = 15"
   ]
  },
  {
   "cell_type": "code",
   "execution_count": 43,
   "id": "aa2ab3ff",
   "metadata": {},
   "outputs": [
    {
     "data": {
      "text/plain": [
       "[1, 2, 3, 15, 5, 6]"
      ]
     },
     "execution_count": 43,
     "metadata": {},
     "output_type": "execute_result"
    }
   ],
   "source": [
    "List1"
   ]
  },
  {
   "cell_type": "code",
   "execution_count": 41,
   "id": "d5472e14",
   "metadata": {
    "collapsed": true
   },
   "outputs": [
    {
     "ename": "IndexError",
     "evalue": "list assignment index out of range",
     "output_type": "error",
     "traceback": [
      "\u001b[1;31m---------------------------------------------------------------------------\u001b[0m",
      "\u001b[1;31mIndexError\u001b[0m                                Traceback (most recent call last)",
      "Cell \u001b[1;32mIn[41], line 1\u001b[0m\n\u001b[1;32m----> 1\u001b[0m List1[\u001b[38;5;241m6\u001b[39m] \u001b[38;5;241m=\u001b[39m [\u001b[38;5;241m16\u001b[39m,\u001b[38;5;241m18\u001b[39m]\n",
      "\u001b[1;31mIndexError\u001b[0m: list assignment index out of range"
     ]
    }
   ],
   "source": [
    "List1[6] = [16,18]"
   ]
  },
  {
   "cell_type": "code",
   "execution_count": 42,
   "id": "defc9e8a",
   "metadata": {},
   "outputs": [],
   "source": [
    "# list functions adding value"
   ]
  },
  {
   "cell_type": "code",
   "execution_count": 44,
   "id": "94ab93ca",
   "metadata": {},
   "outputs": [],
   "source": [
    "List1.append(7) #--> append at the end, single value index at a time."
   ]
  },
  {
   "cell_type": "code",
   "execution_count": 45,
   "id": "e588abf9",
   "metadata": {},
   "outputs": [
    {
     "data": {
      "text/plain": [
       "[1, 2, 3, 15, 5, 6, 7]"
      ]
     },
     "execution_count": 45,
     "metadata": {},
     "output_type": "execute_result"
    }
   ],
   "source": [
    "List1"
   ]
  },
  {
   "cell_type": "code",
   "execution_count": 46,
   "id": "8152b9c4",
   "metadata": {},
   "outputs": [],
   "source": [
    "List1.append([8,9])"
   ]
  },
  {
   "cell_type": "code",
   "execution_count": 47,
   "id": "537decf8",
   "metadata": {},
   "outputs": [
    {
     "data": {
      "text/plain": [
       "[1, 2, 3, 15, 5, 6, 7, [8, 9]]"
      ]
     },
     "execution_count": 47,
     "metadata": {},
     "output_type": "execute_result"
    }
   ],
   "source": [
    "List1"
   ]
  },
  {
   "cell_type": "code",
   "execution_count": 48,
   "id": "7fd82190",
   "metadata": {},
   "outputs": [],
   "source": [
    "List1.extend([10,11,12,13]) #--> multi values at once."
   ]
  },
  {
   "cell_type": "code",
   "execution_count": 49,
   "id": "c0564c27",
   "metadata": {},
   "outputs": [
    {
     "data": {
      "text/plain": [
       "[1, 2, 3, 15, 5, 6, 7, [8, 9], 10, 11, 12, 13]"
      ]
     },
     "execution_count": 49,
     "metadata": {},
     "output_type": "execute_result"
    }
   ],
   "source": [
    "List1"
   ]
  },
  {
   "cell_type": "code",
   "execution_count": 50,
   "id": "9b590274",
   "metadata": {},
   "outputs": [],
   "source": [
    "List1.insert(7,8) # Given index the value is written."
   ]
  },
  {
   "cell_type": "code",
   "execution_count": 51,
   "id": "d66bf643",
   "metadata": {},
   "outputs": [
    {
     "data": {
      "text/plain": [
       "[1, 2, 3, 15, 5, 6, 7, 8, [8, 9], 10, 11, 12, 13]"
      ]
     },
     "execution_count": 51,
     "metadata": {},
     "output_type": "execute_result"
    }
   ],
   "source": [
    "List1"
   ]
  },
  {
   "cell_type": "code",
   "execution_count": 55,
   "id": "70685858",
   "metadata": {
    "collapsed": true
   },
   "outputs": [
    {
     "data": {
      "text/plain": [
       "0"
      ]
     },
     "execution_count": 55,
     "metadata": {},
     "output_type": "execute_result"
    }
   ],
   "source": [
    "List1.count(14)"
   ]
  },
  {
   "cell_type": "code",
   "execution_count": 56,
   "id": "a91fa0ab",
   "metadata": {
    "collapsed": true
   },
   "outputs": [
    {
     "data": {
      "text/plain": [
       "3"
      ]
     },
     "execution_count": 56,
     "metadata": {},
     "output_type": "execute_result"
    }
   ],
   "source": [
    "List1.index(15)"
   ]
  },
  {
   "cell_type": "code",
   "execution_count": 57,
   "id": "331ea501",
   "metadata": {
    "collapsed": true
   },
   "outputs": [
    {
     "data": {
      "text/plain": [
       "13"
      ]
     },
     "execution_count": 57,
     "metadata": {},
     "output_type": "execute_result"
    }
   ],
   "source": [
    "List1.pop() # --> deleting the last at time."
   ]
  },
  {
   "cell_type": "code",
   "execution_count": 59,
   "id": "2911c201",
   "metadata": {
    "collapsed": true
   },
   "outputs": [
    {
     "data": {
      "text/plain": [
       "12"
      ]
     },
     "execution_count": 59,
     "metadata": {},
     "output_type": "execute_result"
    }
   ],
   "source": [
    "List1.pop()"
   ]
  },
  {
   "cell_type": "code",
   "execution_count": 61,
   "id": "3a8a9429",
   "metadata": {},
   "outputs": [
    {
     "data": {
      "text/plain": [
       "2"
      ]
     },
     "execution_count": 61,
     "metadata": {},
     "output_type": "execute_result"
    }
   ],
   "source": [
    "List1.pop(1)"
   ]
  },
  {
   "cell_type": "code",
   "execution_count": 63,
   "id": "10c81d72",
   "metadata": {},
   "outputs": [],
   "source": [
    "List1.remove(10)"
   ]
  },
  {
   "cell_type": "code",
   "execution_count": 64,
   "id": "5b2dfd6f",
   "metadata": {},
   "outputs": [
    {
     "data": {
      "text/plain": [
       "[1, 3, 15, 5, 6, 7, 8, [8, 9], 11]"
      ]
     },
     "execution_count": 64,
     "metadata": {},
     "output_type": "execute_result"
    }
   ],
   "source": [
    "List1"
   ]
  },
  {
   "cell_type": "code",
   "execution_count": 65,
   "id": "898dbb01",
   "metadata": {},
   "outputs": [],
   "source": [
    "List1.remove([8,9])"
   ]
  },
  {
   "cell_type": "code",
   "execution_count": 67,
   "id": "9a3d9f1e",
   "metadata": {},
   "outputs": [],
   "source": [
    "List1.reverse()"
   ]
  },
  {
   "cell_type": "code",
   "execution_count": 69,
   "id": "ed6da15d",
   "metadata": {},
   "outputs": [],
   "source": [
    "List1.sort() # --> defualt in ascending."
   ]
  },
  {
   "cell_type": "code",
   "execution_count": 70,
   "id": "d6ac64c7",
   "metadata": {},
   "outputs": [
    {
     "data": {
      "text/plain": [
       "[1, 3, 5, 6, 7, 8, 11, 15]"
      ]
     },
     "execution_count": 70,
     "metadata": {},
     "output_type": "execute_result"
    }
   ],
   "source": [
    "List1"
   ]
  },
  {
   "cell_type": "code",
   "execution_count": 71,
   "id": "45872229",
   "metadata": {},
   "outputs": [],
   "source": [
    "# descending order\n",
    "List1.sort(reverse=True)"
   ]
  },
  {
   "cell_type": "code",
   "execution_count": 72,
   "id": "da415d17",
   "metadata": {},
   "outputs": [
    {
     "data": {
      "text/plain": [
       "[15, 11, 8, 7, 6, 5, 3, 1]"
      ]
     },
     "execution_count": 72,
     "metadata": {},
     "output_type": "execute_result"
    }
   ],
   "source": [
    "List1"
   ]
  },
  {
   "cell_type": "code",
   "execution_count": 76,
   "id": "7b923244",
   "metadata": {},
   "outputs": [],
   "source": [
    "List2 = List1.copy()"
   ]
  },
  {
   "cell_type": "code",
   "execution_count": 77,
   "id": "5687e83d",
   "metadata": {},
   "outputs": [
    {
     "data": {
      "text/plain": [
       "[1, 3, 5, 6, 7, 8, 11, 15]"
      ]
     },
     "execution_count": 77,
     "metadata": {},
     "output_type": "execute_result"
    }
   ],
   "source": [
    "List2"
   ]
  },
  {
   "cell_type": "code",
   "execution_count": 78,
   "id": "90a63269",
   "metadata": {},
   "outputs": [],
   "source": [
    "List1.clear()"
   ]
  },
  {
   "cell_type": "code",
   "execution_count": 79,
   "id": "cbb2ce43",
   "metadata": {},
   "outputs": [
    {
     "data": {
      "text/plain": [
       "[]"
      ]
     },
     "execution_count": 79,
     "metadata": {},
     "output_type": "execute_result"
    }
   ],
   "source": [
    "List1"
   ]
  },
  {
   "cell_type": "code",
   "execution_count": 80,
   "id": "f1de8877",
   "metadata": {},
   "outputs": [
    {
     "data": {
      "text/plain": [
       "[1, 3, 5, 6, 7, 8, 11, 15]"
      ]
     },
     "execution_count": 80,
     "metadata": {},
     "output_type": "execute_result"
    }
   ],
   "source": [
    "# arthemetic operation\n",
    "List2"
   ]
  },
  {
   "cell_type": "code",
   "execution_count": 82,
   "id": "55f7e7d2",
   "metadata": {},
   "outputs": [],
   "source": [
    "List3 = [1,5,6,9]"
   ]
  },
  {
   "cell_type": "code",
   "execution_count": 83,
   "id": "6fb87176",
   "metadata": {},
   "outputs": [
    {
     "data": {
      "text/plain": [
       "[1, 3, 5, 6, 7, 8, 11, 15, 1, 5, 6, 9]"
      ]
     },
     "execution_count": 83,
     "metadata": {},
     "output_type": "execute_result"
    }
   ],
   "source": [
    "# list concatonation\n",
    "List2  + List3"
   ]
  },
  {
   "cell_type": "code",
   "execution_count": 86,
   "id": "034bad24",
   "metadata": {},
   "outputs": [
    {
     "data": {
      "text/plain": [
       "[1, 3, 5, 6, 7, 8, 11, 15, 1, 3, 5, 6, 7, 8, 11, 15]"
      ]
     },
     "execution_count": 86,
     "metadata": {},
     "output_type": "execute_result"
    }
   ],
   "source": [
    "# list multiplication\n",
    "List2  * 2"
   ]
  },
  {
   "cell_type": "code",
   "execution_count": null,
   "id": "0872493c",
   "metadata": {},
   "outputs": [],
   "source": [
    "# membership operators\n",
    "in, not in, is , is not."
   ]
  },
  {
   "cell_type": "code",
   "execution_count": 87,
   "id": "01de63ad",
   "metadata": {},
   "outputs": [
    {
     "data": {
      "text/plain": [
       "[1, 3, 5, 6, 7, 8, 11, 15]"
      ]
     },
     "execution_count": 87,
     "metadata": {},
     "output_type": "execute_result"
    }
   ],
   "source": [
    "List2"
   ]
  },
  {
   "cell_type": "code",
   "execution_count": 88,
   "id": "de3de40f",
   "metadata": {},
   "outputs": [
    {
     "data": {
      "text/plain": [
       "True"
      ]
     },
     "execution_count": 88,
     "metadata": {},
     "output_type": "execute_result"
    }
   ],
   "source": [
    "11 in List2"
   ]
  },
  {
   "cell_type": "code",
   "execution_count": 89,
   "id": "73a126db",
   "metadata": {
    "collapsed": true
   },
   "outputs": [
    {
     "data": {
      "text/plain": [
       "False"
      ]
     },
     "execution_count": 89,
     "metadata": {},
     "output_type": "execute_result"
    }
   ],
   "source": [
    "16 in List2"
   ]
  },
  {
   "cell_type": "code",
   "execution_count": 90,
   "id": "9e39e811",
   "metadata": {
    "collapsed": true
   },
   "outputs": [
    {
     "data": {
      "text/plain": [
       "True"
      ]
     },
     "execution_count": 90,
     "metadata": {},
     "output_type": "execute_result"
    }
   ],
   "source": [
    "16 not in List2"
   ]
  },
  {
   "cell_type": "code",
   "execution_count": 92,
   "id": "0ec67dee",
   "metadata": {
    "collapsed": true
   },
   "outputs": [
    {
     "data": {
      "text/plain": [
       "True"
      ]
     },
     "execution_count": 92,
     "metadata": {},
     "output_type": "execute_result"
    }
   ],
   "source": [
    "type(List2) is list"
   ]
  },
  {
   "cell_type": "code",
   "execution_count": 93,
   "id": "9b6e0501",
   "metadata": {
    "collapsed": true
   },
   "outputs": [
    {
     "data": {
      "text/plain": [
       "False"
      ]
     },
     "execution_count": 93,
     "metadata": {},
     "output_type": "execute_result"
    }
   ],
   "source": [
    "type(List2) is str"
   ]
  },
  {
   "cell_type": "code",
   "execution_count": 94,
   "id": "6fa49639",
   "metadata": {
    "collapsed": true
   },
   "outputs": [
    {
     "data": {
      "text/plain": [
       "True"
      ]
     },
     "execution_count": 94,
     "metadata": {},
     "output_type": "execute_result"
    }
   ],
   "source": [
    "type(List2) is not str"
   ]
  },
  {
   "cell_type": "code",
   "execution_count": 101,
   "id": "dbb69811",
   "metadata": {},
   "outputs": [],
   "source": [
    "# python bulitin fucntion on the list --> min, max, sum(), len(),round()\n",
    "List2.extend([17,19,13])"
   ]
  },
  {
   "cell_type": "code",
   "execution_count": 102,
   "id": "4725d03c",
   "metadata": {},
   "outputs": [
    {
     "data": {
      "text/plain": [
       "(1, 19, 11, 105)"
      ]
     },
     "execution_count": 102,
     "metadata": {},
     "output_type": "execute_result"
    }
   ],
   "source": [
    "min(List2),max(List2),len(List2),sum(List2)"
   ]
  },
  {
   "cell_type": "code",
   "execution_count": 107,
   "id": "2e8b9810",
   "metadata": {},
   "outputs": [
    {
     "data": {
      "text/plain": [
       "9.55"
      ]
     },
     "execution_count": 107,
     "metadata": {},
     "output_type": "execute_result"
    }
   ],
   "source": [
    "avg = sum(List2)/len(List2)\n",
    "round(avg,2)"
   ]
  },
  {
   "cell_type": "code",
   "execution_count": null,
   "id": "8c7ffd77",
   "metadata": {},
   "outputs": [],
   "source": [
    "Task3:\n",
    "names = ['prajwal ',' juhaib','aryan ','ram ',' pyarellall',\n",
    "         'binit ','Venkatesh ']\n",
    "1st name --> upper case\n",
    "2nd name --> captilze\n",
    "3rd name --> swapcase\n",
    "4th name --> Replace new your name\n",
    "5th name --> split th name\n",
    "6th name --> add suffix 'mr'\n",
    "7th name --> write any value \n"
   ]
  },
  {
   "cell_type": "code",
   "execution_count": 108,
   "id": "f4a668d5",
   "metadata": {},
   "outputs": [],
   "source": [
    "names = ['prajwal ',' juhaib','aryan ','ram ',' pyarellall',\n",
    "         'binit ','Venkatesh ']"
   ]
  },
  {
   "cell_type": "code",
   "execution_count": 113,
   "id": "5f1dfc19",
   "metadata": {},
   "outputs": [],
   "source": [
    "names[0] = names[0].strip().upper()"
   ]
  },
  {
   "cell_type": "code",
   "execution_count": 114,
   "id": "a62b01ee",
   "metadata": {},
   "outputs": [
    {
     "data": {
      "text/plain": [
       "['PRAJWAL', ' juhaib', 'aryan ', 'ram ', ' pyarellall', 'binit ', 'Venkatesh ']"
      ]
     },
     "execution_count": 114,
     "metadata": {},
     "output_type": "execute_result"
    }
   ],
   "source": [
    "names"
   ]
  },
  {
   "cell_type": "markdown",
   "id": "845b5929",
   "metadata": {},
   "source": [
    "# tuple"
   ]
  },
  {
   "cell_type": "code",
   "execution_count": 115,
   "id": "45b4f589",
   "metadata": {},
   "outputs": [
    {
     "name": "stdout",
     "output_type": "stream",
     "text": [
      "(10, 11, 12, 13)\n"
     ]
    }
   ],
   "source": [
    "Tup = 10,11,12,13\n",
    "print(Tup)"
   ]
  },
  {
   "cell_type": "code",
   "execution_count": 116,
   "id": "54abeb76",
   "metadata": {},
   "outputs": [
    {
     "data": {
      "text/plain": [
       "tuple"
      ]
     },
     "execution_count": 116,
     "metadata": {},
     "output_type": "execute_result"
    }
   ],
   "source": [
    "type(Tup)"
   ]
  },
  {
   "cell_type": "code",
   "execution_count": 117,
   "id": "d3aef514",
   "metadata": {},
   "outputs": [
    {
     "data": {
      "text/plain": [
       "tuple"
      ]
     },
     "execution_count": 117,
     "metadata": {},
     "output_type": "execute_result"
    }
   ],
   "source": [
    "Tupl = (15,16,1,8)\n",
    "type(Tupl)"
   ]
  },
  {
   "cell_type": "code",
   "execution_count": 120,
   "id": "d280ee06",
   "metadata": {},
   "outputs": [
    {
     "data": {
      "text/plain": [
       "(11, 12)"
      ]
     },
     "execution_count": 120,
     "metadata": {},
     "output_type": "execute_result"
    }
   ],
   "source": [
    "Tup[1:3]"
   ]
  },
  {
   "cell_type": "code",
   "execution_count": 121,
   "id": "d504e5ec",
   "metadata": {
    "collapsed": true
   },
   "outputs": [
    {
     "ename": "TypeError",
     "evalue": "'tuple' object does not support item assignment",
     "output_type": "error",
     "traceback": [
      "\u001b[1;31m---------------------------------------------------------------------------\u001b[0m",
      "\u001b[1;31mTypeError\u001b[0m                                 Traceback (most recent call last)",
      "Cell \u001b[1;32mIn[121], line 1\u001b[0m\n\u001b[1;32m----> 1\u001b[0m Tup[\u001b[38;5;241m0\u001b[39m] \u001b[38;5;241m=\u001b[39m \u001b[38;5;241m12\u001b[39m\n",
      "\u001b[1;31mTypeError\u001b[0m: 'tuple' object does not support item assignment"
     ]
    }
   ],
   "source": [
    "Tup[0] = 12"
   ]
  },
  {
   "cell_type": "code",
   "execution_count": 123,
   "id": "de05dda6",
   "metadata": {},
   "outputs": [
    {
     "data": {
      "text/plain": [
       "(1, 0)"
      ]
     },
     "execution_count": 123,
     "metadata": {},
     "output_type": "execute_result"
    }
   ],
   "source": [
    "Tup.count(10),Tup.index(10)"
   ]
  },
  {
   "cell_type": "code",
   "execution_count": 125,
   "id": "52450d9d",
   "metadata": {},
   "outputs": [],
   "source": [
    "Tupl = list(Tupl)"
   ]
  },
  {
   "cell_type": "code",
   "execution_count": 127,
   "id": "2d045731",
   "metadata": {},
   "outputs": [],
   "source": [
    "Tupl[2] = 17"
   ]
  },
  {
   "cell_type": "code",
   "execution_count": 129,
   "id": "8b05e24c",
   "metadata": {},
   "outputs": [],
   "source": [
    "Tupl = tuple(Tupl)"
   ]
  },
  {
   "cell_type": "code",
   "execution_count": 130,
   "id": "c5a79439",
   "metadata": {
    "collapsed": true
   },
   "outputs": [
    {
     "data": {
      "text/plain": [
       "(15, 16, 17, 8)"
      ]
     },
     "execution_count": 130,
     "metadata": {},
     "output_type": "execute_result"
    }
   ],
   "source": [
    "Tupl"
   ]
  },
  {
   "cell_type": "code",
   "execution_count": 131,
   "id": "97947bee",
   "metadata": {
    "collapsed": true
   },
   "outputs": [
    {
     "data": {
      "text/plain": [
       "tuple"
      ]
     },
     "execution_count": 131,
     "metadata": {},
     "output_type": "execute_result"
    }
   ],
   "source": [
    "type(Tupl)"
   ]
  },
  {
   "cell_type": "code",
   "execution_count": 133,
   "id": "f07cab6e",
   "metadata": {},
   "outputs": [
    {
     "data": {
      "text/plain": [
       "(56, 4)"
      ]
     },
     "execution_count": 133,
     "metadata": {},
     "output_type": "execute_result"
    }
   ],
   "source": [
    "sum(Tupl),len(Tupl)"
   ]
  },
  {
   "cell_type": "markdown",
   "id": "4d46461f",
   "metadata": {},
   "source": [
    "# set"
   ]
  },
  {
   "cell_type": "code",
   "execution_count": 136,
   "id": "614729e3",
   "metadata": {
    "collapsed": true
   },
   "outputs": [
    {
     "data": {
      "text/plain": [
       "['In',\n",
       " 'List1',\n",
       " 'List2',\n",
       " 'List3',\n",
       " 'Out',\n",
       " 'Tup',\n",
       " 'Tupl',\n",
       " '_',\n",
       " '_100',\n",
       " '_102',\n",
       " '_103',\n",
       " '_104',\n",
       " '_105',\n",
       " '_106',\n",
       " '_107',\n",
       " '_109',\n",
       " '_11',\n",
       " '_110',\n",
       " '_111',\n",
       " '_112',\n",
       " '_114',\n",
       " '_116',\n",
       " '_117',\n",
       " '_118',\n",
       " '_119',\n",
       " '_12',\n",
       " '_120',\n",
       " '_122',\n",
       " '_123',\n",
       " '_124',\n",
       " '_126',\n",
       " '_128',\n",
       " '_13',\n",
       " '_130',\n",
       " '_131',\n",
       " '_132',\n",
       " '_133',\n",
       " '_135',\n",
       " '_14',\n",
       " '_15',\n",
       " '_16',\n",
       " '_17',\n",
       " '_18',\n",
       " '_19',\n",
       " '_2',\n",
       " '_20',\n",
       " '_21',\n",
       " '_22',\n",
       " '_23',\n",
       " '_24',\n",
       " '_25',\n",
       " '_26',\n",
       " '_27',\n",
       " '_28',\n",
       " '_29',\n",
       " '_30',\n",
       " '_31',\n",
       " '_32',\n",
       " '_33',\n",
       " '_34',\n",
       " '_35',\n",
       " '_36',\n",
       " '_37',\n",
       " '_39',\n",
       " '_4',\n",
       " '_43',\n",
       " '_45',\n",
       " '_47',\n",
       " '_49',\n",
       " '_5',\n",
       " '_51',\n",
       " '_52',\n",
       " '_53',\n",
       " '_55',\n",
       " '_56',\n",
       " '_57',\n",
       " '_58',\n",
       " '_59',\n",
       " '_6',\n",
       " '_60',\n",
       " '_61',\n",
       " '_62',\n",
       " '_64',\n",
       " '_66',\n",
       " '_68',\n",
       " '_7',\n",
       " '_70',\n",
       " '_72',\n",
       " '_74',\n",
       " '_77',\n",
       " '_79',\n",
       " '_8',\n",
       " '_80',\n",
       " '_83',\n",
       " '_86',\n",
       " '_87',\n",
       " '_88',\n",
       " '_89',\n",
       " '_9',\n",
       " '_90',\n",
       " '_91',\n",
       " '_92',\n",
       " '_93',\n",
       " '_94',\n",
       " '_95',\n",
       " '_96',\n",
       " '_97',\n",
       " '_98',\n",
       " '_99',\n",
       " '__',\n",
       " '___',\n",
       " '__builtin__',\n",
       " '__builtins__',\n",
       " '__doc__',\n",
       " '__loader__',\n",
       " '__name__',\n",
       " '__package__',\n",
       " '__spec__',\n",
       " '_dh',\n",
       " '_exit_code',\n",
       " '_i',\n",
       " '_i1',\n",
       " '_i10',\n",
       " '_i100',\n",
       " '_i101',\n",
       " '_i102',\n",
       " '_i103',\n",
       " '_i104',\n",
       " '_i105',\n",
       " '_i106',\n",
       " '_i107',\n",
       " '_i108',\n",
       " '_i109',\n",
       " '_i11',\n",
       " '_i110',\n",
       " '_i111',\n",
       " '_i112',\n",
       " '_i113',\n",
       " '_i114',\n",
       " '_i115',\n",
       " '_i116',\n",
       " '_i117',\n",
       " '_i118',\n",
       " '_i119',\n",
       " '_i12',\n",
       " '_i120',\n",
       " '_i121',\n",
       " '_i122',\n",
       " '_i123',\n",
       " '_i124',\n",
       " '_i125',\n",
       " '_i126',\n",
       " '_i127',\n",
       " '_i128',\n",
       " '_i129',\n",
       " '_i13',\n",
       " '_i130',\n",
       " '_i131',\n",
       " '_i132',\n",
       " '_i133',\n",
       " '_i134',\n",
       " '_i135',\n",
       " '_i136',\n",
       " '_i14',\n",
       " '_i15',\n",
       " '_i16',\n",
       " '_i17',\n",
       " '_i18',\n",
       " '_i19',\n",
       " '_i2',\n",
       " '_i20',\n",
       " '_i21',\n",
       " '_i22',\n",
       " '_i23',\n",
       " '_i24',\n",
       " '_i25',\n",
       " '_i26',\n",
       " '_i27',\n",
       " '_i28',\n",
       " '_i29',\n",
       " '_i3',\n",
       " '_i30',\n",
       " '_i31',\n",
       " '_i32',\n",
       " '_i33',\n",
       " '_i34',\n",
       " '_i35',\n",
       " '_i36',\n",
       " '_i37',\n",
       " '_i38',\n",
       " '_i39',\n",
       " '_i4',\n",
       " '_i40',\n",
       " '_i41',\n",
       " '_i42',\n",
       " '_i43',\n",
       " '_i44',\n",
       " '_i45',\n",
       " '_i46',\n",
       " '_i47',\n",
       " '_i48',\n",
       " '_i49',\n",
       " '_i5',\n",
       " '_i50',\n",
       " '_i51',\n",
       " '_i52',\n",
       " '_i53',\n",
       " '_i54',\n",
       " '_i55',\n",
       " '_i56',\n",
       " '_i57',\n",
       " '_i58',\n",
       " '_i59',\n",
       " '_i6',\n",
       " '_i60',\n",
       " '_i61',\n",
       " '_i62',\n",
       " '_i63',\n",
       " '_i64',\n",
       " '_i65',\n",
       " '_i66',\n",
       " '_i67',\n",
       " '_i68',\n",
       " '_i69',\n",
       " '_i7',\n",
       " '_i70',\n",
       " '_i71',\n",
       " '_i72',\n",
       " '_i73',\n",
       " '_i74',\n",
       " '_i75',\n",
       " '_i76',\n",
       " '_i77',\n",
       " '_i78',\n",
       " '_i79',\n",
       " '_i8',\n",
       " '_i80',\n",
       " '_i81',\n",
       " '_i82',\n",
       " '_i83',\n",
       " '_i84',\n",
       " '_i85',\n",
       " '_i86',\n",
       " '_i87',\n",
       " '_i88',\n",
       " '_i89',\n",
       " '_i9',\n",
       " '_i90',\n",
       " '_i91',\n",
       " '_i92',\n",
       " '_i93',\n",
       " '_i94',\n",
       " '_i95',\n",
       " '_i96',\n",
       " '_i97',\n",
       " '_i98',\n",
       " '_i99',\n",
       " '_ih',\n",
       " '_ii',\n",
       " '_iii',\n",
       " '_oh',\n",
       " 'avg',\n",
       " 'exit',\n",
       " 'get_ipython',\n",
       " 'names',\n",
       " 'open',\n",
       " 'quit']"
      ]
     },
     "execution_count": 136,
     "metadata": {},
     "output_type": "execute_result"
    }
   ],
   "source": [
    "dir()"
   ]
  },
  {
   "cell_type": "code",
   "execution_count": 137,
   "id": "41792830",
   "metadata": {},
   "outputs": [],
   "source": [
    "del Tupl"
   ]
  },
  {
   "cell_type": "code",
   "execution_count": 138,
   "id": "393d21cb",
   "metadata": {
    "collapsed": true
   },
   "outputs": [
    {
     "ename": "NameError",
     "evalue": "name 'Tupl' is not defined",
     "output_type": "error",
     "traceback": [
      "\u001b[1;31m---------------------------------------------------------------------------\u001b[0m",
      "\u001b[1;31mNameError\u001b[0m                                 Traceback (most recent call last)",
      "Cell \u001b[1;32mIn[138], line 1\u001b[0m\n\u001b[1;32m----> 1\u001b[0m Tupl\n",
      "\u001b[1;31mNameError\u001b[0m: name 'Tupl' is not defined"
     ]
    }
   ],
   "source": [
    "Tupl"
   ]
  },
  {
   "cell_type": "code",
   "execution_count": 139,
   "id": "35d7c872",
   "metadata": {},
   "outputs": [],
   "source": [
    "s1 = {10,11,11,12,13,15,11,16,14,18,14}"
   ]
  },
  {
   "cell_type": "code",
   "execution_count": 141,
   "id": "3c50e0b8",
   "metadata": {},
   "outputs": [],
   "source": [
    "s2 = {10,15,14,18,19,20,21,17,16}"
   ]
  },
  {
   "cell_type": "code",
   "execution_count": 142,
   "id": "e5d0b478",
   "metadata": {},
   "outputs": [
    {
     "data": {
      "text/plain": [
       "({10, 11, 12, 13, 14, 15, 16, 18}, {10, 14, 15, 16, 17, 18, 19, 20, 21})"
      ]
     },
     "execution_count": 142,
     "metadata": {},
     "output_type": "execute_result"
    }
   ],
   "source": [
    "s1,s2"
   ]
  },
  {
   "cell_type": "code",
   "execution_count": 147,
   "id": "61a27b75",
   "metadata": {},
   "outputs": [],
   "source": [
    "s1.add(17) #--> one value at time"
   ]
  },
  {
   "cell_type": "code",
   "execution_count": 149,
   "id": "a244d9ae",
   "metadata": {},
   "outputs": [],
   "source": [
    "s1.update({19,20}) #--> multiple value can be updated."
   ]
  },
  {
   "cell_type": "code",
   "execution_count": 150,
   "id": "5a390c7a",
   "metadata": {},
   "outputs": [
    {
     "data": {
      "text/plain": [
       "{10, 11, 12, 13, 14, 15, 16, 17, 18, 19, 20}"
      ]
     },
     "execution_count": 150,
     "metadata": {},
     "output_type": "execute_result"
    }
   ],
   "source": [
    "unione --> combine\n",
    "diffrence --> diffrent values\n",
    "intersection --> common values\n",
    "symmetric diffrence--> both the set simalar diffrent value is extracted "
   ]
  },
  {
   "cell_type": "code",
   "execution_count": 152,
   "id": "4bf4d51a",
   "metadata": {},
   "outputs": [
    {
     "data": {
      "text/plain": [
       "({10, 11, 12, 13, 14, 15, 16, 17, 18, 19, 20},\n",
       " {10, 14, 15, 16, 17, 18, 19, 20, 21})"
      ]
     },
     "execution_count": 152,
     "metadata": {},
     "output_type": "execute_result"
    }
   ],
   "source": [
    "s1,s2"
   ]
  },
  {
   "cell_type": "code",
   "execution_count": 153,
   "id": "715b6602",
   "metadata": {},
   "outputs": [
    {
     "data": {
      "text/plain": [
       "{10, 11, 12, 13, 14, 15, 16, 17, 18, 19, 20, 21}"
      ]
     },
     "execution_count": 153,
     "metadata": {},
     "output_type": "execute_result"
    }
   ],
   "source": [
    "s1.union(s2)"
   ]
  },
  {
   "cell_type": "code",
   "execution_count": 154,
   "id": "3eac7e27",
   "metadata": {},
   "outputs": [
    {
     "data": {
      "text/plain": [
       "{10, 14, 15, 16, 17, 18, 19, 20}"
      ]
     },
     "execution_count": 154,
     "metadata": {},
     "output_type": "execute_result"
    }
   ],
   "source": [
    "s1.intersection(s2)"
   ]
  },
  {
   "cell_type": "code",
   "execution_count": 155,
   "id": "61a28254",
   "metadata": {},
   "outputs": [
    {
     "data": {
      "text/plain": [
       "{10, 14, 15, 16, 17, 18, 19, 20}"
      ]
     },
     "execution_count": 155,
     "metadata": {},
     "output_type": "execute_result"
    }
   ],
   "source": [
    "s2.intersection(s1)"
   ]
  },
  {
   "cell_type": "code",
   "execution_count": 157,
   "id": "5c713e9b",
   "metadata": {},
   "outputs": [
    {
     "data": {
      "text/plain": [
       "({10, 11, 12, 13, 14, 15, 16, 17, 18, 19, 20},\n",
       " {10, 14, 15, 16, 17, 18, 19, 20, 21})"
      ]
     },
     "execution_count": 157,
     "metadata": {},
     "output_type": "execute_result"
    }
   ],
   "source": [
    "s1,s2"
   ]
  },
  {
   "cell_type": "code",
   "execution_count": 156,
   "id": "6e608d95",
   "metadata": {},
   "outputs": [
    {
     "data": {
      "text/plain": [
       "{11, 12, 13, 21}"
      ]
     },
     "execution_count": 156,
     "metadata": {},
     "output_type": "execute_result"
    }
   ],
   "source": [
    "s1.symmetric_difference(s2)"
   ]
  },
  {
   "cell_type": "code",
   "execution_count": 158,
   "id": "f0f5dc5e",
   "metadata": {},
   "outputs": [
    {
     "data": {
      "text/plain": [
       "{11, 12, 13}"
      ]
     },
     "execution_count": 158,
     "metadata": {},
     "output_type": "execute_result"
    }
   ],
   "source": [
    "s1.difference(s2)"
   ]
  },
  {
   "cell_type": "code",
   "execution_count": 160,
   "id": "009ce840",
   "metadata": {},
   "outputs": [
    {
     "data": {
      "text/plain": [
       "False"
      ]
     },
     "execution_count": 160,
     "metadata": {},
     "output_type": "execute_result"
    }
   ],
   "source": [
    "s1.isdisjoint(s2)"
   ]
  },
  {
   "cell_type": "code",
   "execution_count": 161,
   "id": "0c411b9e",
   "metadata": {},
   "outputs": [
    {
     "data": {
      "text/plain": [
       "True"
      ]
     },
     "execution_count": 161,
     "metadata": {},
     "output_type": "execute_result"
    }
   ],
   "source": [
    "s3 = {1,2,3}\n",
    "s4 = {4,5,6}\n",
    "s3.isdisjoint(s4)"
   ]
  },
  {
   "cell_type": "code",
   "execution_count": 164,
   "id": "19bed52b",
   "metadata": {},
   "outputs": [
    {
     "data": {
      "text/plain": [
       "(True, False)"
      ]
     },
     "execution_count": 164,
     "metadata": {},
     "output_type": "execute_result"
    }
   ],
   "source": [
    "a = {1,2,3,4,5,6}\n",
    "b = {1,2,3}\n",
    "a.issuperset(b),a.issubset(b)"
   ]
  },
  {
   "cell_type": "code",
   "execution_count": 166,
   "id": "724ae8b5",
   "metadata": {},
   "outputs": [
    {
     "data": {
      "text/plain": [
       "(True, False)"
      ]
     },
     "execution_count": 166,
     "metadata": {},
     "output_type": "execute_result"
    }
   ],
   "source": [
    "b.issubset(a),b.issuperset(a)"
   ]
  },
  {
   "cell_type": "code",
   "execution_count": 169,
   "id": "20afff7c",
   "metadata": {},
   "outputs": [
    {
     "data": {
      "text/plain": [
       "{11, 12, 13}"
      ]
     },
     "execution_count": 169,
     "metadata": {},
     "output_type": "execute_result"
    }
   ],
   "source": [
    "#updating\n",
    "s1.difference(s2)"
   ]
  },
  {
   "cell_type": "code",
   "execution_count": 170,
   "id": "47a4d817",
   "metadata": {},
   "outputs": [],
   "source": [
    "s1.difference_update(s2)"
   ]
  },
  {
   "cell_type": "code",
   "execution_count": 171,
   "id": "afe25846",
   "metadata": {},
   "outputs": [
    {
     "data": {
      "text/plain": [
       "{11, 12, 13}"
      ]
     },
     "execution_count": 171,
     "metadata": {},
     "output_type": "execute_result"
    }
   ],
   "source": [
    "s1"
   ]
  },
  {
   "cell_type": "code",
   "execution_count": 173,
   "id": "b1b5ed79",
   "metadata": {},
   "outputs": [
    {
     "data": {
      "text/plain": [
       "{10, 11, 12, 13, 14, 15, 16, 17, 18, 19, 20, 21}"
      ]
     },
     "execution_count": 173,
     "metadata": {},
     "output_type": "execute_result"
    }
   ],
   "source": [
    "s1.symmetric_difference(s2)"
   ]
  },
  {
   "cell_type": "code",
   "execution_count": 174,
   "id": "ceec336c",
   "metadata": {},
   "outputs": [],
   "source": [
    "s1.symmetric_difference_update(s2)"
   ]
  },
  {
   "cell_type": "code",
   "execution_count": 176,
   "id": "bda7d97f",
   "metadata": {},
   "outputs": [
    {
     "data": {
      "text/plain": [
       "{10, 14, 15, 16, 17, 18, 19, 20, 21}"
      ]
     },
     "execution_count": 176,
     "metadata": {},
     "output_type": "execute_result"
    }
   ],
   "source": [
    "s1.intersection(s2)"
   ]
  },
  {
   "cell_type": "code",
   "execution_count": 177,
   "id": "38efbbb2",
   "metadata": {},
   "outputs": [],
   "source": [
    "s1.intersection_update(s2)"
   ]
  },
  {
   "cell_type": "code",
   "execution_count": 178,
   "id": "03678be9",
   "metadata": {},
   "outputs": [
    {
     "data": {
      "text/plain": [
       "{10, 14, 15, 16, 17, 18, 19, 20, 21}"
      ]
     },
     "execution_count": 178,
     "metadata": {},
     "output_type": "execute_result"
    }
   ],
   "source": [
    "s1"
   ]
  },
  {
   "cell_type": "code",
   "execution_count": 179,
   "id": "961f5638",
   "metadata": {
    "collapsed": true
   },
   "outputs": [
    {
     "ename": "TypeError",
     "evalue": "'set' object is not subscriptable",
     "output_type": "error",
     "traceback": [
      "\u001b[1;31m---------------------------------------------------------------------------\u001b[0m",
      "\u001b[1;31mTypeError\u001b[0m                                 Traceback (most recent call last)",
      "Cell \u001b[1;32mIn[179], line 2\u001b[0m\n\u001b[0;32m      1\u001b[0m \u001b[38;5;66;03m# indexing/ slicing.\u001b[39;00m\n\u001b[1;32m----> 2\u001b[0m s1[\u001b[38;5;241m0\u001b[39m]\n",
      "\u001b[1;31mTypeError\u001b[0m: 'set' object is not subscriptable"
     ]
    }
   ],
   "source": [
    "# indexing/ slicing.\n",
    "s1[0]"
   ]
  },
  {
   "cell_type": "code",
   "execution_count": 181,
   "id": "69c05305",
   "metadata": {},
   "outputs": [
    {
     "data": {
      "text/plain": [
       "14"
      ]
     },
     "execution_count": 181,
     "metadata": {},
     "output_type": "execute_result"
    }
   ],
   "source": [
    "s1.pop()"
   ]
  },
  {
   "cell_type": "code",
   "execution_count": 183,
   "id": "52b8455e",
   "metadata": {},
   "outputs": [],
   "source": [
    "s1.remove(20)"
   ]
  },
  {
   "cell_type": "code",
   "execution_count": 184,
   "id": "cecdcdc7",
   "metadata": {},
   "outputs": [
    {
     "data": {
      "text/plain": [
       "{15, 16, 17, 18, 19, 21}"
      ]
     },
     "execution_count": 184,
     "metadata": {},
     "output_type": "execute_result"
    }
   ],
   "source": [
    "s1"
   ]
  },
  {
   "cell_type": "markdown",
   "id": "3afb30d4",
   "metadata": {},
   "source": [
    "# dictionary"
   ]
  },
  {
   "cell_type": "code",
   "execution_count": 185,
   "id": "4a86a82b",
   "metadata": {},
   "outputs": [],
   "source": [
    "data = {1:'one', 2:'Two',3:'Three',4:'four'}"
   ]
  },
  {
   "cell_type": "code",
   "execution_count": 187,
   "id": "660900a4",
   "metadata": {},
   "outputs": [
    {
     "data": {
      "text/plain": [
       "dict"
      ]
     },
     "execution_count": 187,
     "metadata": {},
     "output_type": "execute_result"
    }
   ],
   "source": [
    "type(data)"
   ]
  },
  {
   "cell_type": "code",
   "execution_count": 188,
   "id": "73113b45",
   "metadata": {},
   "outputs": [],
   "source": [
    "data1 = {'key1':[1,2,3,5,6],\n",
    "        'key2':(10,15,16,True),\n",
    "        'Key3': {'a','b','c','d'}\n",
    "        }"
   ]
  },
  {
   "cell_type": "code",
   "execution_count": 189,
   "id": "6e66dfe1",
   "metadata": {
    "collapsed": true
   },
   "outputs": [
    {
     "data": {
      "text/plain": [
       "{'key1': [1, 2, 3, 5, 6],\n",
       " 'key2': (10, 15, 16, True),\n",
       " 'Key3': {'a', 'b', 'c', 'd'}}"
      ]
     },
     "execution_count": 189,
     "metadata": {},
     "output_type": "execute_result"
    }
   ],
   "source": [
    "data1"
   ]
  },
  {
   "cell_type": "code",
   "execution_count": 190,
   "id": "562adeef",
   "metadata": {},
   "outputs": [
    {
     "data": {
      "text/plain": [
       "dict"
      ]
     },
     "execution_count": 190,
     "metadata": {},
     "output_type": "execute_result"
    }
   ],
   "source": [
    "type(data1)"
   ]
  },
  {
   "cell_type": "code",
   "execution_count": 191,
   "id": "e6151396",
   "metadata": {},
   "outputs": [
    {
     "data": {
      "text/plain": [
       "dict_keys(['key1', 'key2', 'Key3'])"
      ]
     },
     "execution_count": 191,
     "metadata": {},
     "output_type": "execute_result"
    }
   ],
   "source": [
    "data1.keys()"
   ]
  },
  {
   "cell_type": "code",
   "execution_count": 192,
   "id": "d5b4267c",
   "metadata": {},
   "outputs": [
    {
     "data": {
      "text/plain": [
       "dict_values([[1, 2, 3, 5, 6], (10, 15, 16, True), {'d', 'b', 'c', 'a'}])"
      ]
     },
     "execution_count": 192,
     "metadata": {},
     "output_type": "execute_result"
    }
   ],
   "source": [
    "data1.values()"
   ]
  },
  {
   "cell_type": "code",
   "execution_count": 193,
   "id": "612681b5",
   "metadata": {},
   "outputs": [
    {
     "data": {
      "text/plain": [
       "dict_items([('key1', [1, 2, 3, 5, 6]), ('key2', (10, 15, 16, True)), ('Key3', {'d', 'b', 'c', 'a'})])"
      ]
     },
     "execution_count": 193,
     "metadata": {},
     "output_type": "execute_result"
    }
   ],
   "source": [
    "data1.items()"
   ]
  },
  {
   "cell_type": "code",
   "execution_count": 194,
   "id": "d6f11aba",
   "metadata": {},
   "outputs": [
    {
     "data": {
      "text/plain": [
       "[1, 2, 3, 5, 6]"
      ]
     },
     "execution_count": 194,
     "metadata": {},
     "output_type": "execute_result"
    }
   ],
   "source": [
    "data1.get('key1')"
   ]
  },
  {
   "cell_type": "code",
   "execution_count": 195,
   "id": "8df2e205",
   "metadata": {},
   "outputs": [
    {
     "data": {
      "text/plain": [
       "[1, 2, 3, 5, 6]"
      ]
     },
     "execution_count": 195,
     "metadata": {},
     "output_type": "execute_result"
    }
   ],
   "source": [
    "data1['key1']"
   ]
  },
  {
   "cell_type": "code",
   "execution_count": 197,
   "id": "dbc30853",
   "metadata": {
    "collapsed": true
   },
   "outputs": [
    {
     "data": {
      "text/plain": [
       "[1, 2, 3, 5, 6]"
      ]
     },
     "execution_count": 197,
     "metadata": {},
     "output_type": "execute_result"
    }
   ],
   "source": [
    "data1.pop('key1')"
   ]
  },
  {
   "cell_type": "code",
   "execution_count": 200,
   "id": "57ddc6a2",
   "metadata": {
    "collapsed": true
   },
   "outputs": [
    {
     "data": {
      "text/plain": [
       "('Key3', {'a', 'b', 'c', 'd'})"
      ]
     },
     "execution_count": 200,
     "metadata": {},
     "output_type": "execute_result"
    }
   ],
   "source": [
    "data1.popitem()"
   ]
  },
  {
   "cell_type": "code",
   "execution_count": 201,
   "id": "d5c511d8",
   "metadata": {
    "collapsed": true
   },
   "outputs": [
    {
     "data": {
      "text/plain": [
       "{'key2': (10, 15, 16, True)}"
      ]
     },
     "execution_count": 201,
     "metadata": {},
     "output_type": "execute_result"
    }
   ],
   "source": [
    "data1"
   ]
  },
  {
   "cell_type": "code",
   "execution_count": 202,
   "id": "259d48f3",
   "metadata": {},
   "outputs": [],
   "source": [
    "data1.update({'key1':[1, 2, 3, 5, 6]})"
   ]
  },
  {
   "cell_type": "code",
   "execution_count": 204,
   "id": "4de659aa",
   "metadata": {},
   "outputs": [
    {
     "data": {
      "text/plain": [
       "{'key2': (10, 15, 16, True), 'key1': [1, 2, 3, 5, 6]}"
      ]
     },
     "execution_count": 204,
     "metadata": {},
     "output_type": "execute_result"
    }
   ],
   "source": [
    "data1"
   ]
  },
  {
   "cell_type": "code",
   "execution_count": 208,
   "id": "82fbe55a",
   "metadata": {},
   "outputs": [],
   "source": [
    "data1['key1'][3] = 4"
   ]
  },
  {
   "cell_type": "code",
   "execution_count": 209,
   "id": "f3e40f21",
   "metadata": {},
   "outputs": [
    {
     "data": {
      "text/plain": [
       "{'key2': (10, 15, 16, True), 'key1': [1, 2, 3, 4, 6]}"
      ]
     },
     "execution_count": 209,
     "metadata": {},
     "output_type": "execute_result"
    }
   ],
   "source": [
    "data1"
   ]
  },
  {
   "cell_type": "markdown",
   "id": "ab69bd45",
   "metadata": {},
   "source": [
    "# multi list and multi dictionary"
   ]
  },
  {
   "cell_type": "code",
   "execution_count": 210,
   "id": "1b7d6566",
   "metadata": {},
   "outputs": [],
   "source": [
    "Mlist = [[0,1,2,3],[4,5,6,7],[8,9,10,11,12]]"
   ]
  },
  {
   "cell_type": "code",
   "execution_count": 211,
   "id": "e9f99352",
   "metadata": {},
   "outputs": [
    {
     "name": "stdout",
     "output_type": "stream",
     "text": [
      "[[0, 1, 2, 3], [4, 5, 6, 7], [8, 9, 10, 11, 12]]\n"
     ]
    }
   ],
   "source": [
    "print(Mlist)"
   ]
  },
  {
   "cell_type": "code",
   "execution_count": 218,
   "id": "54a3c99e",
   "metadata": {},
   "outputs": [
    {
     "data": {
      "text/plain": [
       "(2, 10)"
      ]
     },
     "execution_count": 218,
     "metadata": {},
     "output_type": "execute_result"
    }
   ],
   "source": [
    "Mlist[0][2], Mlist[2][2]"
   ]
  },
  {
   "cell_type": "code",
   "execution_count": 220,
   "id": "37b69211",
   "metadata": {},
   "outputs": [],
   "source": [
    "# extract 151,a\n",
    "Mlist1 = [0,1,2,[10,151,6,[5,6,8,[8,9,10],[15,14,16],['a',5]]]]          "
   ]
  },
  {
   "cell_type": "code",
   "execution_count": 222,
   "id": "44cfc551",
   "metadata": {},
   "outputs": [
    {
     "data": {
      "text/plain": [
       "(151, 'a')"
      ]
     },
     "execution_count": 222,
     "metadata": {},
     "output_type": "execute_result"
    }
   ],
   "source": [
    "Mlist1[3][1],Mlist1[3][3][5][0]"
   ]
  },
  {
   "cell_type": "code",
   "execution_count": 226,
   "id": "f1be0dde",
   "metadata": {},
   "outputs": [
    {
     "data": {
      "text/plain": [
       "'a'"
      ]
     },
     "execution_count": 226,
     "metadata": {},
     "output_type": "execute_result"
    }
   ],
   "source": [
    "Mlist1[3][3][5][0]"
   ]
  },
  {
   "cell_type": "code",
   "execution_count": 227,
   "id": "0e8b626d",
   "metadata": {},
   "outputs": [],
   "source": [
    "student_marks = [\n",
    "    {'name':'sam',\n",
    "    'age':25,\n",
    "    'subjects':['Maths','science','CS','Statistics','Phyisics','Bio'],\n",
    "    'Marks':[60,70,80,90,70,60]},\n",
    "    \n",
    "    {'name':'jack',\n",
    "    'age':26,\n",
    "    'subjects':['Maths','science','CS','Statistics','Phyisics','Bio'],\n",
    "    'Marks':[60,70,80,80,70,60]}\n",
    "                ]"
   ]
  },
  {
   "cell_type": "code",
   "execution_count": 234,
   "id": "c4c5eb26",
   "metadata": {
    "collapsed": true
   },
   "outputs": [
    {
     "data": {
      "text/plain": [
       "{'name': 'sam',\n",
       " 'age': 25,\n",
       " 'subjects': ['Maths', 'science', 'CS', 'Statistics', 'Phyisics', 'Bio'],\n",
       " 'Marks': [60, 70, 80, 90, 70, 60]}"
      ]
     },
     "execution_count": 234,
     "metadata": {},
     "output_type": "execute_result"
    }
   ],
   "source": [
    "student_marks[0]"
   ]
  },
  {
   "cell_type": "code",
   "execution_count": 235,
   "id": "4fb2cc37",
   "metadata": {},
   "outputs": [
    {
     "data": {
      "text/plain": [
       "'m'"
      ]
     },
     "execution_count": 235,
     "metadata": {},
     "output_type": "execute_result"
    }
   ],
   "source": [
    "student_marks[0]['name'][2]"
   ]
  },
  {
   "cell_type": "code",
   "execution_count": 239,
   "id": "6b042cd1",
   "metadata": {},
   "outputs": [
    {
     "data": {
      "text/plain": [
       "[60, 70, 80, 90, 70, 60]"
      ]
     },
     "execution_count": 239,
     "metadata": {},
     "output_type": "execute_result"
    }
   ],
   "source": [
    "student_marks[0]['Marks']"
   ]
  },
  {
   "cell_type": "code",
   "execution_count": 238,
   "id": "1ee010ee",
   "metadata": {},
   "outputs": [
    {
     "data": {
      "text/plain": [
       "'sam'"
      ]
     },
     "execution_count": 238,
     "metadata": {},
     "output_type": "execute_result"
    }
   ],
   "source": [
    "student_marks[0]['name']"
   ]
  },
  {
   "cell_type": "code",
   "execution_count": null,
   "id": "cb14a145",
   "metadata": {},
   "outputs": [],
   "source": [
    "# change the value to science -->  data science."
   ]
  },
  {
   "cell_type": "code",
   "execution_count": 241,
   "id": "cdd038f7",
   "metadata": {},
   "outputs": [],
   "source": [
    "#Task4: calculate the avgrage hight of all list.\n",
    "heights = [[5.5,5.6,5.9,5.8,5.7,5.9],\n",
    "                    [6.5,6.8,7.1,6.3,6.4,6.6,6.4],\n",
    "                    [7.1,7.8,7.5,6.9,8.1,7.5,7.9]]"
   ]
  },
  {
   "cell_type": "code",
   "execution_count": 244,
   "id": "5ef1fb25",
   "metadata": {},
   "outputs": [
    {
     "data": {
      "text/plain": [
       "5.733333333333333"
      ]
     },
     "execution_count": 244,
     "metadata": {},
     "output_type": "execute_result"
    }
   ],
   "source": [
    "avg_0 = sum(heights[0])/len(heights[0])\n",
    "avg_0"
   ]
  },
  {
   "cell_type": "code",
   "execution_count": 245,
   "id": "8a156bbb",
   "metadata": {},
   "outputs": [],
   "source": [
    "# Task5: find the average marks if the students name is in terms of string.\n",
    "DS_students = [\n",
    "    {'name': 'Sam',\n",
    " 'age': 37,\n",
    " 'course': ['DS', 'Stat', 'AWS'],\n",
    " 'marks': [80, 95, 69,60]},\n",
    "  \n",
    "    {'name': None,\n",
    " 'age': 37,\n",
    " 'course': ['DS', 'Stat', 'AWS'],\n",
    " 'marks': [80, 95, 69,70]},\n",
    " \n",
    "    {'name': 10,\n",
    " 'age': 37,\n",
    " 'course': ['DS', 'Stat', 'AWS'],\n",
    " 'marks': [80, 95, 69,30]}]"
   ]
  },
  {
   "cell_type": "code",
   "execution_count": 248,
   "id": "51b17244",
   "metadata": {},
   "outputs": [
    {
     "data": {
      "text/plain": [
       "str"
      ]
     },
     "execution_count": 248,
     "metadata": {},
     "output_type": "execute_result"
    }
   ],
   "source": [
    "type(DS_students[0]['name'])"
   ]
  },
  {
   "cell_type": "code",
   "execution_count": 249,
   "id": "da7a21a4",
   "metadata": {},
   "outputs": [],
   "source": [
    "sam_marks = sum(DS_students[0]['marks'])/len(DS_students[0]['marks'])"
   ]
  },
  {
   "cell_type": "code",
   "execution_count": 250,
   "id": "8d33ae49",
   "metadata": {},
   "outputs": [
    {
     "data": {
      "text/plain": [
       "76.0"
      ]
     },
     "execution_count": 250,
     "metadata": {},
     "output_type": "execute_result"
    }
   ],
   "source": [
    "sam_marks"
   ]
  },
  {
   "cell_type": "code",
   "execution_count": 251,
   "id": "3dc4d78c",
   "metadata": {},
   "outputs": [
    {
     "data": {
      "text/plain": [
       "NoneType"
      ]
     },
     "execution_count": 251,
     "metadata": {},
     "output_type": "execute_result"
    }
   ],
   "source": [
    "type(DS_students[1]['name'])"
   ]
  },
  {
   "cell_type": "code",
   "execution_count": 252,
   "id": "1b4233f6",
   "metadata": {},
   "outputs": [
    {
     "data": {
      "text/plain": [
       "int"
      ]
     },
     "execution_count": 252,
     "metadata": {},
     "output_type": "execute_result"
    }
   ],
   "source": [
    "type(DS_students[2]['name'])"
   ]
  },
  {
   "cell_type": "markdown",
   "id": "b8dccb2b",
   "metadata": {},
   "source": [
    "# conditional statments."
   ]
  },
  {
   "cell_type": "code",
   "execution_count": null,
   "id": "07779737",
   "metadata": {},
   "outputs": [],
   "source": [
    "--> if condition:\n",
    "       statements\n",
    "        \n",
    "--> if condition:\n",
    "       statements\n",
    "    else:\n",
    "        statments\n",
    "        \n",
    "--> if condtion:\n",
    "      statments\n",
    "    elif condtion:\n",
    "        statments\n",
    "    elif contion:\n",
    "        statments\n",
    "    else:\n",
    "        statments"
   ]
  },
  {
   "cell_type": "code",
   "execution_count": null,
   "id": "91e1dc32",
   "metadata": {},
   "outputs": [],
   "source": [
    "#comaprision operator\n",
    "equal ==\n",
    "no equal !=\n",
    "greater then >\n",
    "greater then equal >=\n",
    "less then <\n",
    "less then equal <="
   ]
  },
  {
   "cell_type": "code",
   "execution_count": 253,
   "id": "0e7e2b64",
   "metadata": {},
   "outputs": [],
   "source": [
    "a = 10\n"
   ]
  },
  {
   "cell_type": "code",
   "execution_count": 256,
   "id": "d51fb213",
   "metadata": {},
   "outputs": [
    {
     "data": {
      "text/plain": [
       "(True, True, True)"
      ]
     },
     "execution_count": 256,
     "metadata": {},
     "output_type": "execute_result"
    }
   ],
   "source": [
    "a == 10,a>8,a>=8"
   ]
  },
  {
   "cell_type": "code",
   "execution_count": 257,
   "id": "e115c1aa",
   "metadata": {},
   "outputs": [
    {
     "name": "stdout",
     "output_type": "stream",
     "text": [
      "a is greater then 5\n"
     ]
    }
   ],
   "source": [
    "if a > 5:\n",
    "    print('a is greater then 5')"
   ]
  },
  {
   "cell_type": "code",
   "execution_count": 258,
   "id": "59e01502",
   "metadata": {},
   "outputs": [],
   "source": [
    "if a < 5:\n",
    "    print('a is greater then 5')"
   ]
  },
  {
   "cell_type": "code",
   "execution_count": 259,
   "id": "1c8fe008",
   "metadata": {},
   "outputs": [],
   "source": [
    "b = 20"
   ]
  },
  {
   "cell_type": "code",
   "execution_count": 260,
   "id": "e6acd10c",
   "metadata": {},
   "outputs": [
    {
     "data": {
      "text/plain": [
       "(10, 20)"
      ]
     },
     "execution_count": 260,
     "metadata": {},
     "output_type": "execute_result"
    }
   ],
   "source": [
    "a,b"
   ]
  },
  {
   "cell_type": "code",
   "execution_count": 262,
   "id": "0de9dc7b",
   "metadata": {},
   "outputs": [
    {
     "data": {
      "text/plain": [
       "(False, True)"
      ]
     },
     "execution_count": 262,
     "metadata": {},
     "output_type": "execute_result"
    }
   ],
   "source": [
    "a == b,a!=b"
   ]
  },
  {
   "cell_type": "code",
   "execution_count": 263,
   "id": "4e95270c",
   "metadata": {},
   "outputs": [
    {
     "name": "stdout",
     "output_type": "stream",
     "text": [
      "30\n"
     ]
    }
   ],
   "source": [
    "if a != b:\n",
    "    c = a+b\n",
    "    print(c)"
   ]
  },
  {
   "cell_type": "code",
   "execution_count": 265,
   "id": "2dfbd503",
   "metadata": {},
   "outputs": [
    {
     "name": "stdout",
     "output_type": "stream",
     "text": [
      "The a and b is not equal\n"
     ]
    }
   ],
   "source": [
    "if a==b:\n",
    "    c = a +b\n",
    "    print(c)\n",
    "else:\n",
    "    print('The a and b is not equal')"
   ]
  },
  {
   "cell_type": "code",
   "execution_count": 269,
   "id": "134f14f1",
   "metadata": {},
   "outputs": [
    {
     "data": {
      "text/plain": [
       "(False, False, True)"
      ]
     },
     "execution_count": 269,
     "metadata": {},
     "output_type": "execute_result"
    }
   ],
   "source": [
    "a > b, a==b,a<b"
   ]
  },
  {
   "cell_type": "code",
   "execution_count": 272,
   "id": "9384f580",
   "metadata": {},
   "outputs": [
    {
     "name": "stdout",
     "output_type": "stream",
     "text": [
      "none of the above condition are true\n"
     ]
    }
   ],
   "source": [
    "if a> b:\n",
    "    print('a is greater then b')\n",
    "elif a == b:\n",
    "    print(' a is equal to b')\n",
    "elif a<10:\n",
    "    print('a is less then b')\n",
    "else:\n",
    "    print('none of the above condition are true')"
   ]
  },
  {
   "cell_type": "code",
   "execution_count": null,
   "id": "d2628cef",
   "metadata": {},
   "outputs": [],
   "source": [
    "# logical operator\n",
    "and [T T -->T\n",
    "    T F --> F\n",
    "    F T--> F\n",
    "    F F--> F]\n",
    "OR [T T --> T\n",
    "   F T --> T\n",
    "   T F --> T\n",
    "   F F--> F]\n",
    "Not\n",
    "[T--> F\n",
    "F--> T]"
   ]
  },
  {
   "cell_type": "code",
   "execution_count": 273,
   "id": "b0c9485f",
   "metadata": {},
   "outputs": [
    {
     "data": {
      "text/plain": [
       "(10, 20)"
      ]
     },
     "execution_count": 273,
     "metadata": {},
     "output_type": "execute_result"
    }
   ],
   "source": [
    "a,b"
   ]
  },
  {
   "cell_type": "code",
   "execution_count": 275,
   "id": "1c45768f",
   "metadata": {},
   "outputs": [
    {
     "data": {
      "text/plain": [
       "False"
      ]
     },
     "execution_count": 275,
     "metadata": {},
     "output_type": "execute_result"
    }
   ],
   "source": [
    "# and\n",
    "a < 5  and b>15"
   ]
  },
  {
   "cell_type": "code",
   "execution_count": 277,
   "id": "4e0eec93",
   "metadata": {},
   "outputs": [
    {
     "data": {
      "text/plain": [
       "False"
      ]
     },
     "execution_count": 277,
     "metadata": {},
     "output_type": "execute_result"
    }
   ],
   "source": [
    "a < 5  and b>15 and a > 8"
   ]
  },
  {
   "cell_type": "code",
   "execution_count": 279,
   "id": "63e5f0ab",
   "metadata": {},
   "outputs": [
    {
     "name": "stdout",
     "output_type": "stream",
     "text": [
      " both condition is satified\n"
     ]
    }
   ],
   "source": [
    "if a>5 and b > 15:\n",
    "    print(' both condition is satified')"
   ]
  },
  {
   "cell_type": "code",
   "execution_count": 281,
   "id": "dfbb5758",
   "metadata": {},
   "outputs": [
    {
     "name": "stdout",
     "output_type": "stream",
     "text": [
      " any one condition is satified\n"
     ]
    }
   ],
   "source": [
    "if a<5 or b > 15:\n",
    "    print(' any one condition is satified')"
   ]
  },
  {
   "cell_type": "code",
   "execution_count": 282,
   "id": "76b6daab",
   "metadata": {},
   "outputs": [
    {
     "name": "stdout",
     "output_type": "stream",
     "text": [
      "a is not eqaul to b\n"
     ]
    }
   ],
   "source": [
    "if not a == b:\n",
    "    print('a is not eqaul to b')"
   ]
  },
  {
   "cell_type": "code",
   "execution_count": null,
   "id": "f41f2a37",
   "metadata": {},
   "outputs": [],
   "source": [
    "# Ternory operator\n",
    "if a < 5:\n",
    "    print('a is 5')\n",
    "else:\n",
    "    print('a is not  known')  "
   ]
  },
  {
   "cell_type": "code",
   "execution_count": 283,
   "id": "529598f9",
   "metadata": {},
   "outputs": [],
   "source": [
    "out = 'a is 5' if a < 5 else 'a is not known'"
   ]
  },
  {
   "cell_type": "code",
   "execution_count": 284,
   "id": "e9e77634",
   "metadata": {},
   "outputs": [
    {
     "data": {
      "text/plain": [
       "'a is not known'"
      ]
     },
     "execution_count": 284,
     "metadata": {},
     "output_type": "execute_result"
    }
   ],
   "source": [
    "out"
   ]
  },
  {
   "cell_type": "code",
   "execution_count": 286,
   "id": "90c7361d",
   "metadata": {},
   "outputs": [
    {
     "name": "stdout",
     "output_type": "stream",
     "text": [
      "5\n"
     ]
    }
   ],
   "source": [
    "result = 5 if a >= 10 else 6\n",
    "print(result)"
   ]
  },
  {
   "cell_type": "code",
   "execution_count": 288,
   "id": "c4d3ffb5",
   "metadata": {},
   "outputs": [
    {
     "data": {
      "text/plain": [
       "str"
      ]
     },
     "execution_count": 288,
     "metadata": {},
     "output_type": "execute_result"
    }
   ],
   "source": [
    "type(DS_students[0]['name'])"
   ]
  },
  {
   "cell_type": "code",
   "execution_count": 289,
   "id": "fffae95c",
   "metadata": {},
   "outputs": [
    {
     "name": "stdout",
     "output_type": "stream",
     "text": [
      "76.0\n"
     ]
    }
   ],
   "source": [
    "if type(DS_students[0]['name']) is str:\n",
    "    sam_marks = sum(DS_students[0]['marks'])/len(DS_students[0]['marks'])\n",
    "    print(sam_marks)"
   ]
  },
  {
   "cell_type": "code",
   "execution_count": 292,
   "id": "c06e3966",
   "metadata": {},
   "outputs": [
    {
     "name": "stdout",
     "output_type": "stream",
     "text": [
      "The name is not in string\n"
     ]
    }
   ],
   "source": [
    "if type(DS_students[1]['name']) is str:\n",
    "    sam_marks = sum(DS_students[1]['marks'])/len(DS_students[1]['marks'])\n",
    "    print(sam_marks)\n",
    "else:\n",
    "    print('The name is not in string')"
   ]
  },
  {
   "cell_type": "code",
   "execution_count": 301,
   "id": "d7a88e89",
   "metadata": {},
   "outputs": [
    {
     "name": "stdout",
     "output_type": "stream",
     "text": [
      "78.5\n"
     ]
    }
   ],
   "source": [
    "if type(DS_students[1]['name']) is str:\n",
    "    sam_marks = sum(DS_students[1]['marks'])/len(DS_students[1]['marks'])\n",
    "    print(sam_marks)\n",
    "elif DS_students[1]['name']== None:\n",
    "    sam_marks = sum(DS_students[1]['marks'])/len(DS_students[1]['marks'])\n",
    "    print(sam_marks)\n",
    "else:\n",
    "    print('The name is not in string')"
   ]
  },
  {
   "cell_type": "code",
   "execution_count": 306,
   "id": "1a25cfb8",
   "metadata": {},
   "outputs": [
    {
     "name": "stdout",
     "output_type": "stream",
     "text": [
      "Enter the value: 15\n",
      "the value is more then 10\n"
     ]
    }
   ],
   "source": [
    "# user input values \n",
    "value = int(input('Enter the value: '))\n",
    "if value > 10:\n",
    "    print('the value is more then 10')\n",
    "else:\n",
    "    print('Th value is less then 10')"
   ]
  },
  {
   "cell_type": "code",
   "execution_count": 307,
   "id": "6ca0093a",
   "metadata": {},
   "outputs": [
    {
     "data": {
      "text/plain": [
       "2.0"
      ]
     },
     "execution_count": 307,
     "metadata": {},
     "output_type": "execute_result"
    }
   ],
   "source": [
    "# check for even number and odd number.\n",
    "# even number --> 0,2,4,6,8, odd number --> 1,3,5,7...\n",
    "\n",
    "4/2"
   ]
  },
  {
   "cell_type": "code",
   "execution_count": 313,
   "id": "e4b94bd8",
   "metadata": {},
   "outputs": [
    {
     "name": "stdout",
     "output_type": "stream",
     "text": [
      "Enter the number: 25\n",
      "The given number is odd i.e 25\n"
     ]
    }
   ],
   "source": [
    "num = int(input('Enter the number: '))\n",
    "if num%2 == 0:\n",
    "    print('The given number is even, i.e', num)\n",
    "else:\n",
    "    print('The given number is odd i.e', num)"
   ]
  },
  {
   "cell_type": "raw",
   "id": "f82c4981",
   "metadata": {},
   "source": [
    "Task6:\n",
    "    Take the user input for age and gender info, \n",
    "    check the age is > 18 and gender M F,\n",
    "        then print out that your are eligible for voting\n",
    "        if M, your are eligible for voting in male booth\n",
    "        if F, your are eligible for voting in female booth\n",
    "    if both conditon is false, not eligible for voting"
   ]
  },
  {
   "cell_type": "raw",
   "id": "6b3694b3",
   "metadata": {},
   "source": [
    "Task7:\n",
    "    Give the fair price of given age of user eg: \n",
    "    if age is 5 years price wil be 10 rs, \n",
    "    if age is 6-15 price will be 15 rs,\n",
    "    greater than 15 will have 20 price.\n",
    "    \n",
    "Task8: \n",
    "    Create a marksheet with grades for user input marks.\n",
    "    marsk = [30-100]\n",
    "    90+ -- A grade\n",
    "    70+ -- B grade\n",
    "    50+ -- C grade\n",
    "    30+ -- D grade\n",
    "    >30 -- fail.\n",
    "    "
   ]
  },
  {
   "cell_type": "code",
   "execution_count": null,
   "id": "2fac3609",
   "metadata": {},
   "outputs": [],
   "source": [
    "# nested if statements\n",
    "if condition:\n",
    "    if condtion:\n",
    "        if condtion:\n",
    "            statemnets\n",
    "        else:\n",
    "            statemnets\n",
    "    else:\n",
    "        statemnets\n",
    "else:\n",
    "    staments\n",
    "        "
   ]
  },
  {
   "cell_type": "code",
   "execution_count": 316,
   "id": "b5bfb3a8",
   "metadata": {
    "collapsed": true
   },
   "outputs": [
    {
     "name": "stdout",
     "output_type": "stream",
     "text": [
      "Enter the age: 19\n",
      "Enter the gender: F\n",
      "eligible for voting\n"
     ]
    }
   ],
   "source": [
    "age = int(input('Enter the age: '))\n",
    "Gender = input('Enter the gender: ')\n",
    "\n",
    "if age > 18:\n",
    "    if Gender == 'M':\n",
    "        print('Eligible for voting')\n",
    "    elif Gender == 'F':\n",
    "        print('eligible for voting')\n",
    "    else:\n",
    "        print('Not eligible for voting')\n",
    "else:\n",
    "    print('Not eligible for voting')"
   ]
  },
  {
   "cell_type": "code",
   "execution_count": 317,
   "id": "36c7a52d",
   "metadata": {
    "collapsed": true
   },
   "outputs": [
    {
     "name": "stdout",
     "output_type": "stream",
     "text": [
      "Eligible for voting\n"
     ]
    }
   ],
   "source": [
    "if age > 18:\n",
    "    if Gender == 'M' or Gender == 'F':\n",
    "        print('Eligible for voting')\n",
    "    else:\n",
    "        print('Not eligible for voting')\n",
    "else:\n",
    "    print('Not eligible for voting')"
   ]
  },
  {
   "cell_type": "code",
   "execution_count": null,
   "id": "0ca79e66",
   "metadata": {},
   "outputs": [],
   "source": [
    "Task 8: check for data is dict, \n",
    "then calculate the length of course and marks\n",
    "if it equal then calculate th avg marks \n",
    "otherwise marks and course are not equal\n",
    "\n",
    "data =  {'name': 'Sam',\n",
    " 'age': 37,\n",
    " 'course': ['DS', 'Stat', 'AWS'],\n",
    " 'marks': [80, 95, 69,60]}"
   ]
  },
  {
   "cell_type": "code",
   "execution_count": null,
   "id": "d2db8bb0",
   "metadata": {},
   "outputs": [],
   "source": [
    "# loopin statements\n",
    "--> for loop\n",
    "--> while loop\n",
    "\n",
    "#syntax for loop\n",
    "\n",
    "for i in data:\n",
    "    statments\n",
    "    \n",
    "    \n",
    "# syntax while  loop\n",
    "initialization\n",
    "conditon\n",
    "increatation/decreamentation.\n",
    "\n",
    "i = 0\n",
    "while condition:\n",
    "    statments\n",
    "    incremtation\n"
   ]
  },
  {
   "cell_type": "code",
   "execution_count": 8,
   "id": "100d11d4",
   "metadata": {
    "collapsed": true
   },
   "outputs": [
    {
     "name": "stdout",
     "output_type": "stream",
     "text": [
      "2\n",
      "4\n",
      "6\n"
     ]
    }
   ],
   "source": [
    "print(2*1)\n",
    "print(2*2)\n",
    "print(2*3)"
   ]
  },
  {
   "cell_type": "code",
   "execution_count": null,
   "id": "01e48a03",
   "metadata": {},
   "outputs": [],
   "source": [
    "# range() fucntion\n",
    "range(start,end,step)"
   ]
  },
  {
   "cell_type": "code",
   "execution_count": 9,
   "id": "604d8a97",
   "metadata": {
    "collapsed": true
   },
   "outputs": [
    {
     "name": "stdout",
     "output_type": "stream",
     "text": [
      "2\n",
      "4\n",
      "6\n",
      "8\n",
      "10\n",
      "12\n",
      "14\n",
      "16\n",
      "18\n",
      "20\n"
     ]
    }
   ],
   "source": [
    "for i in range(1,11):\n",
    "    print(i*2)"
   ]
  },
  {
   "cell_type": "code",
   "execution_count": 5,
   "id": "4125a076",
   "metadata": {
    "collapsed": true
   },
   "outputs": [
    {
     "name": "stdout",
     "output_type": "stream",
     "text": [
      "1\n",
      "4\n",
      "7\n",
      "10\n"
     ]
    }
   ],
   "source": [
    "for i in range(1,11,3):\n",
    "    print(i)"
   ]
  },
  {
   "cell_type": "code",
   "execution_count": 10,
   "id": "c8855d36",
   "metadata": {},
   "outputs": [],
   "source": [
    "string = 'datascience'\n",
    "List = [10,20,30,40,50]\n",
    "Tuple = (60,70,80,90,100)\n",
    "SET = {1,5,6,8,9,1,2,6,5,9,10}"
   ]
  },
  {
   "cell_type": "code",
   "execution_count": 13,
   "id": "e174ea9b",
   "metadata": {
    "collapsed": true
   },
   "outputs": [
    {
     "name": "stdout",
     "output_type": "stream",
     "text": [
      "D\n",
      "A\n",
      "T\n",
      "A\n",
      "S\n",
      "C\n",
      "I\n",
      "E\n",
      "N\n",
      "C\n",
      "E\n"
     ]
    }
   ],
   "source": [
    "for i in string:\n",
    "#     print(type(i))\n",
    "    print(i.upper())"
   ]
  },
  {
   "cell_type": "code",
   "execution_count": 15,
   "id": "e994812f",
   "metadata": {
    "collapsed": true
   },
   "outputs": [
    {
     "name": "stdout",
     "output_type": "stream",
     "text": [
      "12\n",
      "22\n",
      "32\n",
      "42\n",
      "52\n"
     ]
    }
   ],
   "source": [
    "for i in List:\n",
    "    print(i+2)"
   ]
  },
  {
   "cell_type": "code",
   "execution_count": 16,
   "id": "0a35a136",
   "metadata": {
    "collapsed": true
   },
   "outputs": [
    {
     "name": "stdout",
     "output_type": "stream",
     "text": [
      "100\n",
      "400\n",
      "900\n",
      "1600\n",
      "2500\n"
     ]
    }
   ],
   "source": [
    "for i in List:\n",
    "    print(i ** 2)"
   ]
  },
  {
   "cell_type": "code",
   "execution_count": 19,
   "id": "c21b9d7d",
   "metadata": {
    "collapsed": true
   },
   "outputs": [
    {
     "name": "stdout",
     "output_type": "stream",
     "text": [
      "30.0\n",
      "35.0\n",
      "40.0\n",
      "45.0\n",
      "50.0\n"
     ]
    }
   ],
   "source": [
    "for i in Tuple:\n",
    "    print(i/2)"
   ]
  },
  {
   "cell_type": "code",
   "execution_count": 20,
   "id": "4ced1a47",
   "metadata": {
    "collapsed": true
   },
   "outputs": [
    {
     "name": "stdout",
     "output_type": "stream",
     "text": [
      "1\n",
      "2\n",
      "5\n",
      "6\n",
      "8\n",
      "9\n",
      "10\n"
     ]
    }
   ],
   "source": [
    "for i in SET:\n",
    "    print(i)"
   ]
  },
  {
   "cell_type": "code",
   "execution_count": 21,
   "id": "7e661787",
   "metadata": {
    "collapsed": true
   },
   "outputs": [
    {
     "name": "stdout",
     "output_type": "stream",
     "text": [
      "a\n",
      "c\n",
      "d\n",
      "e\n"
     ]
    }
   ],
   "source": [
    "alpha = {'a','c','a','d','e'}\n",
    "for i in alpha:\n",
    "    print(i)"
   ]
  },
  {
   "cell_type": "code",
   "execution_count": 22,
   "id": "cf4abf82",
   "metadata": {},
   "outputs": [],
   "source": [
    "data =  {'name': 'Sam',\n",
    " 'age': 37,\n",
    " 'course': ['DS', 'Stat', 'AWS'],\n",
    " 'marks': [80, 95, 69,60]}"
   ]
  },
  {
   "cell_type": "code",
   "execution_count": 23,
   "id": "9fa7addb",
   "metadata": {
    "collapsed": true
   },
   "outputs": [
    {
     "name": "stdout",
     "output_type": "stream",
     "text": [
      "name\n",
      "age\n",
      "course\n",
      "marks\n"
     ]
    }
   ],
   "source": [
    "for i in data:\n",
    "    print(i)"
   ]
  },
  {
   "cell_type": "code",
   "execution_count": 24,
   "id": "c9e52ea2",
   "metadata": {
    "collapsed": true
   },
   "outputs": [
    {
     "name": "stdout",
     "output_type": "stream",
     "text": [
      "Sam\n",
      "37\n",
      "['DS', 'Stat', 'AWS']\n",
      "[80, 95, 69, 60]\n"
     ]
    }
   ],
   "source": [
    "for i in data.values():\n",
    "    print(i)"
   ]
  },
  {
   "cell_type": "code",
   "execution_count": 25,
   "id": "ef06486e",
   "metadata": {
    "collapsed": true
   },
   "outputs": [
    {
     "name": "stdout",
     "output_type": "stream",
     "text": [
      "('name', 'Sam')\n",
      "('age', 37)\n",
      "('course', ['DS', 'Stat', 'AWS'])\n",
      "('marks', [80, 95, 69, 60])\n"
     ]
    }
   ],
   "source": [
    "for i in data.items():\n",
    "    print(i)"
   ]
  },
  {
   "cell_type": "code",
   "execution_count": 26,
   "id": "690e9a21",
   "metadata": {},
   "outputs": [],
   "source": [
    "heights = [[5.5,5.6,5.9,5.8,5.7,5.9],\n",
    "                    [6.5,6.8,7.1,6.3,6.4,6.6,6.4],\n",
    "                    [7.1,7.8,7.5,6.9,8.1,7.5,7.9]]"
   ]
  },
  {
   "cell_type": "code",
   "execution_count": 27,
   "id": "9e9ac4fe",
   "metadata": {
    "collapsed": true
   },
   "outputs": [
    {
     "name": "stdout",
     "output_type": "stream",
     "text": [
      "[5.5, 5.6, 5.9, 5.8, 5.7, 5.9]\n",
      "[6.5, 6.8, 7.1, 6.3, 6.4, 6.6, 6.4]\n",
      "[7.1, 7.8, 7.5, 6.9, 8.1, 7.5, 7.9]\n"
     ]
    }
   ],
   "source": [
    "for i in heights:\n",
    "    print(i)"
   ]
  },
  {
   "cell_type": "code",
   "execution_count": 29,
   "id": "79b52273",
   "metadata": {},
   "outputs": [
    {
     "name": "stdout",
     "output_type": "stream",
     "text": [
      "5.73\n",
      "6.59\n",
      "7.54\n"
     ]
    }
   ],
   "source": [
    "for i in heights:\n",
    "    avg = round(sum(i)/len(i),2)\n",
    "    print(avg)"
   ]
  },
  {
   "cell_type": "code",
   "execution_count": 30,
   "id": "49e88a3b",
   "metadata": {},
   "outputs": [],
   "source": [
    "students_height = ['Prajwal','juhaib','aryan','ram','pyarellall','binit',\n",
    "                   'venkatesh','tej','rajshri','tanuja','akankshya','sandhya']"
   ]
  },
  {
   "cell_type": "code",
   "execution_count": 31,
   "id": "1b219ac0",
   "metadata": {},
   "outputs": [
    {
     "data": {
      "text/plain": [
       "12"
      ]
     },
     "execution_count": 31,
     "metadata": {},
     "output_type": "execute_result"
    }
   ],
   "source": [
    "len(students_height)"
   ]
  },
  {
   "cell_type": "code",
   "execution_count": 47,
   "id": "dc9231d6",
   "metadata": {
    "collapsed": true
   },
   "outputs": [
    {
     "name": "stdout",
     "output_type": "stream",
     "text": [
      "12\n"
     ]
    }
   ],
   "source": [
    "Length = 0\n",
    "for i in students_height:\n",
    "    Length = Length + 1\n",
    "print(Length)"
   ]
  },
  {
   "cell_type": "code",
   "execution_count": 48,
   "id": "5bf9162e",
   "metadata": {
    "collapsed": true
   },
   "outputs": [
    {
     "name": "stdout",
     "output_type": "stream",
     "text": [
      "12\n"
     ]
    }
   ],
   "source": [
    "Length = 0\n",
    "for i in students_height:\n",
    "    Length += 1\n",
    "print(Length)"
   ]
  },
  {
   "cell_type": "code",
   "execution_count": 49,
   "id": "34e7e823",
   "metadata": {},
   "outputs": [],
   "source": [
    "ht = [5.5,5.6,5.9,5.8,5.7,5.9]"
   ]
  },
  {
   "cell_type": "code",
   "execution_count": 50,
   "id": "38f4c46d",
   "metadata": {
    "collapsed": true
   },
   "outputs": [
    {
     "name": "stdout",
     "output_type": "stream",
     "text": [
      "6\n"
     ]
    }
   ],
   "source": [
    "l = 0\n",
    "for i in ht:\n",
    "    l += 1\n",
    "print(l)"
   ]
  },
  {
   "cell_type": "code",
   "execution_count": 52,
   "id": "700cea08",
   "metadata": {
    "collapsed": true
   },
   "outputs": [
    {
     "data": {
      "text/plain": [
       "34.4"
      ]
     },
     "execution_count": 52,
     "metadata": {},
     "output_type": "execute_result"
    }
   ],
   "source": [
    "sum(ht)"
   ]
  },
  {
   "cell_type": "code",
   "execution_count": 54,
   "id": "db94b686",
   "metadata": {
    "collapsed": true
   },
   "outputs": [
    {
     "name": "stdout",
     "output_type": "stream",
     "text": [
      "34.4\n"
     ]
    }
   ],
   "source": [
    "SUM = 0\n",
    "for i in ht:\n",
    "    SUM += i\n",
    "print(SUM)"
   ]
  },
  {
   "cell_type": "code",
   "execution_count": 60,
   "id": "7ed6921f",
   "metadata": {
    "collapsed": true
   },
   "outputs": [
    {
     "name": "stdout",
     "output_type": "stream",
     "text": [
      "5.5\n",
      "5.6\n",
      "5.9\n"
     ]
    }
   ],
   "source": [
    "# beark \n",
    "ht = [5.5,5.6,5.9,'a','5.8',5.7,5.9]\n",
    "\n",
    "for i in ht:\n",
    "    if i == 'a':\n",
    "        break\n",
    "    print(i)"
   ]
  },
  {
   "cell_type": "code",
   "execution_count": 61,
   "id": "c2ac8374",
   "metadata": {
    "collapsed": true
   },
   "outputs": [
    {
     "name": "stdout",
     "output_type": "stream",
     "text": [
      "5.5\n",
      "5.6\n",
      "5.9\n",
      "5.7\n",
      "5.9\n"
     ]
    }
   ],
   "source": [
    "# continue\n",
    "for i in ht:\n",
    "    if type(i) == str:\n",
    "        continue\n",
    "    print(i)"
   ]
  },
  {
   "cell_type": "code",
   "execution_count": 62,
   "id": "ffead7eb",
   "metadata": {
    "collapsed": true
   },
   "outputs": [
    {
     "name": "stdout",
     "output_type": "stream",
     "text": [
      "5.5\n",
      "5.6\n",
      "5.9\n",
      "a\n",
      "5.8\n",
      "5.7\n",
      "5.9\n"
     ]
    }
   ],
   "source": [
    "# pass\n",
    "for i in ht:\n",
    "    if type(i) == str:\n",
    "        pass\n",
    "    print(i)"
   ]
  },
  {
   "cell_type": "code",
   "execution_count": 64,
   "id": "703f27db",
   "metadata": {},
   "outputs": [
    {
     "data": {
      "text/plain": [
       "7"
      ]
     },
     "execution_count": 64,
     "metadata": {},
     "output_type": "execute_result"
    }
   ],
   "source": [
    "len(ht)"
   ]
  },
  {
   "cell_type": "code",
   "execution_count": 63,
   "id": "fa535981",
   "metadata": {
    "collapsed": true
   },
   "outputs": [
    {
     "name": "stdout",
     "output_type": "stream",
     "text": [
      "0\n",
      "1\n",
      "2\n",
      "3\n",
      "4\n",
      "5\n",
      "6\n"
     ]
    }
   ],
   "source": [
    "# using range function\n",
    "for i in range(0,len(ht)):\n",
    "    print(i)"
   ]
  },
  {
   "cell_type": "code",
   "execution_count": 65,
   "id": "91363748",
   "metadata": {
    "collapsed": true
   },
   "outputs": [
    {
     "data": {
      "text/plain": [
       "[5.5, 5.6, 5.9, 'a', '5.8', 5.7, 5.9]"
      ]
     },
     "execution_count": 65,
     "metadata": {},
     "output_type": "execute_result"
    }
   ],
   "source": [
    "ht"
   ]
  },
  {
   "cell_type": "code",
   "execution_count": 66,
   "id": "271784a2",
   "metadata": {
    "collapsed": true
   },
   "outputs": [
    {
     "name": "stdout",
     "output_type": "stream",
     "text": [
      "5.5\n",
      "5.6\n",
      "5.9\n",
      "a\n",
      "5.8\n",
      "5.7\n",
      "5.9\n"
     ]
    }
   ],
   "source": [
    "# using range function\n",
    "for i in range(0,len(ht)):\n",
    "    print(ht[i])"
   ]
  },
  {
   "cell_type": "code",
   "execution_count": 67,
   "id": "78a1e216",
   "metadata": {
    "collapsed": true
   },
   "outputs": [
    {
     "name": "stdout",
     "output_type": "stream",
     "text": [
      "5\n",
      "4\n",
      "3\n",
      "2\n",
      "1\n"
     ]
    }
   ],
   "source": [
    "for i in range(5,0,-1):\n",
    "    print(i)"
   ]
  },
  {
   "cell_type": "code",
   "execution_count": 72,
   "id": "3870c0c0",
   "metadata": {},
   "outputs": [
    {
     "data": {
      "text/plain": [
       "6"
      ]
     },
     "execution_count": 72,
     "metadata": {},
     "output_type": "execute_result"
    }
   ],
   "source": [
    "len(ht)-1"
   ]
  },
  {
   "cell_type": "code",
   "execution_count": 70,
   "id": "ea7a47d9",
   "metadata": {
    "collapsed": true
   },
   "outputs": [
    {
     "name": "stdout",
     "output_type": "stream",
     "text": [
      "5.9\n",
      "5.7\n",
      "5.8\n",
      "a\n",
      "5.9\n",
      "5.6\n",
      "5.5\n"
     ]
    }
   ],
   "source": [
    "for i in range(len(ht)-1,-1,-1):\n",
    "    print(ht[i])"
   ]
  },
  {
   "cell_type": "code",
   "execution_count": 79,
   "id": "7a0f194b",
   "metadata": {},
   "outputs": [],
   "source": [
    "List = [10,20,30,40,50,10,20,30,50,60,40,50,60,70,10,15,20]"
   ]
  },
  {
   "cell_type": "code",
   "execution_count": 82,
   "id": "04e24302",
   "metadata": {
    "collapsed": true
   },
   "outputs": [
    {
     "name": "stdout",
     "output_type": "stream",
     "text": [
      "70\n",
      "40\n",
      "10\n",
      "15\n",
      "50\n",
      "20\n",
      "60\n",
      "30\n"
     ]
    }
   ],
   "source": [
    "# finding the duplicate values.\n",
    "for i in set(List):\n",
    "#     print(i)\n",
    "    d = List.count(i)\n",
    "    if d > 1:\n",
    "#         pass\n",
    "        print(i,d)"
   ]
  },
  {
   "cell_type": "code",
   "execution_count": null,
   "id": "616cfe51",
   "metadata": {},
   "outputs": [],
   "source": []
  },
  {
   "cell_type": "code",
   "execution_count": null,
   "id": "1b75e2e9",
   "metadata": {},
   "outputs": [],
   "source": []
  },
  {
   "cell_type": "code",
   "execution_count": 84,
   "id": "a1471f59",
   "metadata": {
    "collapsed": true
   },
   "outputs": [
    {
     "ename": "TypeError",
     "evalue": "unsupported operand type(s) for +: 'int' and 'str'",
     "output_type": "error",
     "traceback": [
      "\u001b[1;31m---------------------------------------------------------------------------\u001b[0m",
      "\u001b[1;31mTypeError\u001b[0m                                 Traceback (most recent call last)",
      "Cell \u001b[1;32mIn[84], line 1\u001b[0m\n\u001b[1;32m----> 1\u001b[0m \u001b[38;5;28msum\u001b[39m([\u001b[38;5;241m10\u001b[39m,\u001b[38;5;241m20\u001b[39m,\u001b[38;5;241m3\u001b[39m,\u001b[38;5;241m0\u001b[39m]),\u001b[38;5;28msum\u001b[39m([\u001b[38;5;241m10\u001b[39m,\u001b[38;5;241m20\u001b[39m,\u001b[38;5;124m'\u001b[39m\u001b[38;5;124m50\u001b[39m\u001b[38;5;124m'\u001b[39m,\u001b[38;5;241m30\u001b[39m])\n",
      "\u001b[1;31mTypeError\u001b[0m: unsupported operand type(s) for +: 'int' and 'str'"
     ]
    }
   ],
   "source": [
    "sum([10,20,3,0]),sum([10,20,'50',30])"
   ]
  },
  {
   "cell_type": "code",
   "execution_count": 88,
   "id": "4b0a8bca",
   "metadata": {},
   "outputs": [],
   "source": [
    "List = [[10,20,'30',40,50],[10,20,'30',50,60],[40,50,'60',70,10],[15,20,30,'40',50]]"
   ]
  },
  {
   "cell_type": "code",
   "execution_count": 101,
   "id": "f01d1ac8",
   "metadata": {},
   "outputs": [
    {
     "name": "stdout",
     "output_type": "stream",
     "text": [
      "545\n"
     ]
    }
   ],
   "source": [
    "# nested loop\n",
    "Total = 0\n",
    "for i in List:\n",
    "    for j in i:\n",
    "        if type(j) == str:\n",
    "            continue\n",
    "        Total += j\n",
    "print(Total)"
   ]
  },
  {
   "cell_type": "code",
   "execution_count": 4,
   "id": "8c313342",
   "metadata": {},
   "outputs": [
    {
     "name": "stdout",
     "output_type": "stream",
     "text": [
      "0##\n",
      "1##\n",
      "2##\n",
      "3##\n",
      "4##\n"
     ]
    }
   ],
   "source": [
    "for i in range(5):\n",
    "    print(i,end = '')\n",
    "    for j in range(2):\n",
    "        print('#',end = '')\n",
    "    print()"
   ]
  },
  {
   "cell_type": "code",
   "execution_count": null,
   "id": "dfac7f4c",
   "metadata": {},
   "outputs": [],
   "source": []
  },
  {
   "cell_type": "code",
   "execution_count": 11,
   "id": "eccb9f2a",
   "metadata": {
    "collapsed": true
   },
   "outputs": [
    {
     "name": "stdout",
     "output_type": "stream",
     "text": [
      "1 \n",
      "1 2 \n",
      "1 2 3 \n",
      "1 2 3 4 \n",
      "1 2 3 4 5 \n"
     ]
    }
   ],
   "source": [
    "# patterns\n",
    "for i in range(1,6):\n",
    "    for j in range(i):\n",
    "        print(j+1, end = ' ')\n",
    "    print()"
   ]
  },
  {
   "cell_type": "code",
   "execution_count": 12,
   "id": "1876eb30",
   "metadata": {
    "collapsed": true
   },
   "outputs": [
    {
     "name": "stdout",
     "output_type": "stream",
     "text": [
      "1 \n",
      "2 2 \n",
      "3 3 3 \n",
      "4 4 4 4 \n",
      "5 5 5 5 5 \n"
     ]
    }
   ],
   "source": [
    "for i in range(1,6):\n",
    "    for j in range(i):\n",
    "        print(i, end = ' ')\n",
    "    print()"
   ]
  },
  {
   "cell_type": "code",
   "execution_count": 14,
   "id": "00873661",
   "metadata": {
    "collapsed": true
   },
   "outputs": [
    {
     "name": "stdout",
     "output_type": "stream",
     "text": [
      "5 5 5 5 5 \n",
      "4 4 4 4 \n",
      "3 3 3 \n",
      "2 2 \n",
      "1 \n"
     ]
    }
   ],
   "source": [
    "for i in range(5,0,-1):\n",
    "    for j in range(i):\n",
    "        print(i, end = ' ')\n",
    "    print()"
   ]
  },
  {
   "cell_type": "code",
   "execution_count": 16,
   "id": "1bee2d3b",
   "metadata": {
    "collapsed": true
   },
   "outputs": [
    {
     "name": "stdout",
     "output_type": "stream",
     "text": [
      "1 \n",
      "2 2 \n",
      "3 3 3 \n",
      "4 4 4 4 \n",
      "5 5 5 5 5 \n",
      "4 4 4 4 \n",
      "3 3 3 \n",
      "2 2 \n",
      "1 \n"
     ]
    }
   ],
   "source": [
    "for i in range(1,6):\n",
    "    for j in range(i):\n",
    "        print(i, end = ' ')\n",
    "    print()\n",
    "for i in range(4,0,-1):\n",
    "    for j in range(i):\n",
    "        print(i, end = ' ')\n",
    "    print()"
   ]
  },
  {
   "cell_type": "code",
   "execution_count": 19,
   "id": "03a43bd4",
   "metadata": {
    "collapsed": true
   },
   "outputs": [
    {
     "name": "stdout",
     "output_type": "stream",
     "text": [
      "     * \n",
      "    * * \n",
      "   * * * \n",
      "  * * * * \n",
      " * * * * * \n"
     ]
    }
   ],
   "source": [
    "for i in range(5):\n",
    "    for b in range(5-i):\n",
    "        print(' ',end= '')\n",
    "    for j in range(i+1):\n",
    "        print('*',end = ' ')\n",
    "    print()"
   ]
  },
  {
   "cell_type": "code",
   "execution_count": 21,
   "id": "021acb8d",
   "metadata": {
    "collapsed": true
   },
   "outputs": [
    {
     "name": "stdout",
     "output_type": "stream",
     "text": [
      "* * * * * \n",
      " * * * * \n",
      "  * * * \n",
      "   * * \n",
      "    * \n"
     ]
    }
   ],
   "source": [
    "for i in range(5,0,-1):\n",
    "    for b in range(5-i):\n",
    "        print(' ',end= '')\n",
    "    for j in range(i):\n",
    "        print('*',end = ' ')\n",
    "    print()"
   ]
  },
  {
   "cell_type": "code",
   "execution_count": 29,
   "id": "b3423c23",
   "metadata": {
    "collapsed": true
   },
   "outputs": [
    {
     "name": "stdout",
     "output_type": "stream",
     "text": [
      "     * \n",
      "    * * \n",
      "   * * * \n",
      "  * * * * \n",
      " * * * * * \n",
      "* * * * * * \n",
      " * * * * * \n",
      "  * * * * \n",
      "   * * * \n",
      "    * * \n",
      "     * \n"
     ]
    }
   ],
   "source": [
    "for i in range(5):\n",
    "    for b in range(5-i):\n",
    "        print(' ',end= '')\n",
    "    for j in range(i+1):\n",
    "        print('*',end = ' ')\n",
    "    print()\n",
    "for i in range(5,-1,-1):\n",
    "    for b in range(5-i):\n",
    "        print(' ',end= '')\n",
    "    for j in range(i+1):\n",
    "        print('*',end = ' ')\n",
    "    print()"
   ]
  },
  {
   "cell_type": "code",
   "execution_count": null,
   "id": "43bcfe8f",
   "metadata": {},
   "outputs": [],
   "source": [
    "# while looping"
   ]
  },
  {
   "cell_type": "code",
   "execution_count": 33,
   "id": "d64ee727",
   "metadata": {
    "collapsed": true
   },
   "outputs": [
    {
     "name": "stdout",
     "output_type": "stream",
     "text": [
      "0\n",
      "1\n",
      "2\n",
      "3\n",
      "4\n",
      "5\n"
     ]
    }
   ],
   "source": [
    "i = 0\n",
    "while i<=5:\n",
    "    print(i)\n",
    "    i = i+1"
   ]
  },
  {
   "cell_type": "code",
   "execution_count": 35,
   "id": "e1c9557e",
   "metadata": {
    "collapsed": true
   },
   "outputs": [
    {
     "name": "stdout",
     "output_type": "stream",
     "text": [
      "5\n",
      "4\n",
      "3\n",
      "2\n",
      "1\n",
      "0\n"
     ]
    }
   ],
   "source": [
    "i = 5\n",
    "while i>=0:\n",
    "    print(i)\n",
    "    i = i-1"
   ]
  },
  {
   "cell_type": "code",
   "execution_count": 36,
   "id": "b0b7acc7",
   "metadata": {
    "collapsed": true
   },
   "outputs": [
    {
     "name": "stdout",
     "output_type": "stream",
     "text": [
      "0\n",
      "1\n",
      "2\n",
      "3\n",
      "4\n",
      "5\n",
      "6\n"
     ]
    }
   ],
   "source": [
    "# break\n",
    "i = 0\n",
    "while i<=10:\n",
    "    if i == 7:\n",
    "        break\n",
    "    print(i)\n",
    "    i = i+1"
   ]
  },
  {
   "cell_type": "code",
   "execution_count": 40,
   "id": "0fb0249b",
   "metadata": {
    "collapsed": true
   },
   "outputs": [
    {
     "name": "stdout",
     "output_type": "stream",
     "text": [
      "0\n",
      "1\n",
      "2\n",
      "3\n",
      "4\n",
      "5\n",
      "6\n"
     ]
    },
    {
     "ename": "KeyboardInterrupt",
     "evalue": "",
     "output_type": "error",
     "traceback": [
      "\u001b[1;31m---------------------------------------------------------------------------\u001b[0m",
      "\u001b[1;31mKeyboardInterrupt\u001b[0m                         Traceback (most recent call last)",
      "Cell \u001b[1;32mIn[40], line 5\u001b[0m\n\u001b[0;32m      3\u001b[0m \u001b[38;5;28;01mwhile\u001b[39;00m i\u001b[38;5;241m<\u001b[39m\u001b[38;5;241m=\u001b[39m\u001b[38;5;241m10\u001b[39m:\n\u001b[0;32m      4\u001b[0m     \u001b[38;5;28;01mif\u001b[39;00m i \u001b[38;5;241m==\u001b[39m \u001b[38;5;241m7\u001b[39m:\n\u001b[1;32m----> 5\u001b[0m         \u001b[38;5;28;01mcontinue\u001b[39;00m \n\u001b[0;32m      6\u001b[0m     \u001b[38;5;28mprint\u001b[39m(i)\n\u001b[0;32m      7\u001b[0m     i \u001b[38;5;241m=\u001b[39m i\u001b[38;5;241m+\u001b[39m\u001b[38;5;241m1\u001b[39m\n",
      "\u001b[1;31mKeyboardInterrupt\u001b[0m: "
     ]
    }
   ],
   "source": [
    "# break\n",
    "i = 0\n",
    "while i<=10:\n",
    "    if i == 7:\n",
    "        continue \n",
    "    print(i)\n",
    "    i = i+1"
   ]
  },
  {
   "cell_type": "code",
   "execution_count": 43,
   "id": "c7eab5fe",
   "metadata": {
    "collapsed": true
   },
   "outputs": [
    {
     "name": "stdout",
     "output_type": "stream",
     "text": [
      "1 \n",
      "2 2 \n",
      "3 3 3 \n",
      "4 4 4 4 \n",
      "5 5 5 5 5 \n"
     ]
    }
   ],
   "source": [
    "i = 1\n",
    "while (i <= 5):\n",
    "    j = 1\n",
    "    while (j <= i):\n",
    "        print(i, end = ' ')\n",
    "        j = j+1\n",
    "#         i = i+1\n",
    "    print()\n",
    "    i = i+1"
   ]
  },
  {
   "cell_type": "code",
   "execution_count": 44,
   "id": "96bdefbb",
   "metadata": {
    "collapsed": true
   },
   "outputs": [
    {
     "name": "stdout",
     "output_type": "stream",
     "text": [
      "1 \n",
      "1 2 \n",
      "1 2 3 \n",
      "1 2 3 4 \n",
      "1 2 3 4 5 \n"
     ]
    }
   ],
   "source": [
    "i = 1\n",
    "while (i <= 5):\n",
    "    j = 1\n",
    "    while (j <= i):\n",
    "        print(j, end = ' ')\n",
    "        j = j+1\n",
    "#         i = i+1\n",
    "    print()\n",
    "    i = i+1"
   ]
  },
  {
   "cell_type": "code",
   "execution_count": 45,
   "id": "5f542d18",
   "metadata": {
    "collapsed": true
   },
   "outputs": [
    {
     "name": "stdout",
     "output_type": "stream",
     "text": [
      "    * \n",
      "   * * \n",
      "  * * * \n",
      " * * * * \n",
      "* * * * * \n"
     ]
    }
   ],
   "source": [
    "i = 1 \n",
    "while (i <= 5):\n",
    "    j = 1 \n",
    "    while j <= 5-i:\n",
    "        print(' ',end = '')\n",
    "        j = j+1\n",
    "    k = 1 \n",
    "    while k <= i:\n",
    "        print('*',end = ' ')\n",
    "        k = k+1\n",
    "    print()\n",
    "    i = i+1"
   ]
  },
  {
   "cell_type": "markdown",
   "id": "14a645b5",
   "metadata": {},
   "source": [
    "# user defined function"
   ]
  },
  {
   "cell_type": "code",
   "execution_count": null,
   "id": "0414424d",
   "metadata": {},
   "outputs": [],
   "source": [
    "--> input(),print(),sum(),min(),max(),len(),range(),round()."
   ]
  },
  {
   "cell_type": "code",
   "execution_count": 46,
   "id": "d8248e1e",
   "metadata": {
    "collapsed": true
   },
   "outputs": [
    {
     "name": "stdout",
     "output_type": "stream",
     "text": [
      "Help on method raw_input in module ipykernel.kernelbase:\n",
      "\n",
      "raw_input(prompt='') method of ipykernel.ipkernel.IPythonKernel instance\n",
      "    Forward raw_input to frontends\n",
      "    \n",
      "    Raises\n",
      "    ------\n",
      "    StdinNotImplementedError if active frontend doesn't support stdin.\n",
      "\n"
     ]
    }
   ],
   "source": [
    "help(input)"
   ]
  },
  {
   "cell_type": "code",
   "execution_count": 47,
   "id": "d5b3743d",
   "metadata": {
    "collapsed": true
   },
   "outputs": [
    {
     "name": "stdout",
     "output_type": "stream",
     "text": [
      "Help on built-in function print in module builtins:\n",
      "\n",
      "print(*args, sep=' ', end='\\n', file=None, flush=False)\n",
      "    Prints the values to a stream, or to sys.stdout by default.\n",
      "    \n",
      "    sep\n",
      "      string inserted between values, default a space.\n",
      "    end\n",
      "      string appended after the last value, default a newline.\n",
      "    file\n",
      "      a file-like object (stream); defaults to the current sys.stdout.\n",
      "    flush\n",
      "      whether to forcibly flush the stream.\n",
      "\n"
     ]
    }
   ],
   "source": [
    "help(print)"
   ]
  },
  {
   "cell_type": "code",
   "execution_count": null,
   "id": "f8c48f61",
   "metadata": {},
   "outputs": [],
   "source": [
    "# fucntion define\n",
    "\n",
    "def fucntion_name():\n",
    "    staments\n",
    "    \n",
    "def --> defining a function\n",
    "fnction_name --> name of the function\n",
    "statments --> statements for function."
   ]
  },
  {
   "cell_type": "code",
   "execution_count": 48,
   "id": "3af7b708",
   "metadata": {},
   "outputs": [],
   "source": [
    "# no parameter function\n",
    "def name():\n",
    "    print('My name is syeda')"
   ]
  },
  {
   "cell_type": "code",
   "execution_count": 49,
   "id": "1edaf84b",
   "metadata": {
    "collapsed": true
   },
   "outputs": [
    {
     "name": "stdout",
     "output_type": "stream",
     "text": [
      "My name is syeda\n"
     ]
    }
   ],
   "source": [
    "# calling a function\n",
    "name()"
   ]
  },
  {
   "cell_type": "code",
   "execution_count": 53,
   "id": "223bede0",
   "metadata": {},
   "outputs": [],
   "source": [
    "# one parameter function/ positional arguments\n",
    "def student_name(name):\n",
    "    print('My name is',name)\n",
    "    print(f'My name is {name}')"
   ]
  },
  {
   "cell_type": "code",
   "execution_count": 54,
   "id": "e31047e9",
   "metadata": {
    "collapsed": true
   },
   "outputs": [
    {
     "name": "stdout",
     "output_type": "stream",
     "text": [
      "My name is syeda\n",
      "My name is syeda\n"
     ]
    }
   ],
   "source": [
    "student_name('syeda')"
   ]
  },
  {
   "cell_type": "code",
   "execution_count": 55,
   "id": "54bcb3fa",
   "metadata": {
    "collapsed": true
   },
   "outputs": [
    {
     "name": "stdout",
     "output_type": "stream",
     "text": [
      "My name is sam\n",
      "My name is sam\n"
     ]
    }
   ],
   "source": [
    "student_name('sam')"
   ]
  },
  {
   "cell_type": "code",
   "execution_count": 56,
   "id": "a5a7979a",
   "metadata": {
    "collapsed": true
   },
   "outputs": [
    {
     "ename": "TypeError",
     "evalue": "student_name() missing 1 required positional argument: 'name'",
     "output_type": "error",
     "traceback": [
      "\u001b[1;31m---------------------------------------------------------------------------\u001b[0m",
      "\u001b[1;31mTypeError\u001b[0m                                 Traceback (most recent call last)",
      "Cell \u001b[1;32mIn[56], line 1\u001b[0m\n\u001b[1;32m----> 1\u001b[0m student_name()\n",
      "\u001b[1;31mTypeError\u001b[0m: student_name() missing 1 required positional argument: 'name'"
     ]
    }
   ],
   "source": [
    "student_name()"
   ]
  },
  {
   "cell_type": "code",
   "execution_count": 57,
   "id": "37a028d1",
   "metadata": {},
   "outputs": [],
   "source": [
    "# defual parameter\n",
    "def student_name(name = 'syeda'):\n",
    "    print('My name is',name)\n",
    "    print(f'My name is {name}')"
   ]
  },
  {
   "cell_type": "code",
   "execution_count": 59,
   "id": "f765c40d",
   "metadata": {
    "collapsed": true
   },
   "outputs": [
    {
     "name": "stdout",
     "output_type": "stream",
     "text": [
      "My name is syeda\n",
      "My name is syeda\n"
     ]
    }
   ],
   "source": [
    "student_name()"
   ]
  },
  {
   "cell_type": "code",
   "execution_count": 60,
   "id": "2a381c15",
   "metadata": {
    "collapsed": true
   },
   "outputs": [
    {
     "name": "stdout",
     "output_type": "stream",
     "text": [
      "My name is samreen\n",
      "My name is samreen\n"
     ]
    }
   ],
   "source": [
    "student_name('samreen')"
   ]
  },
  {
   "cell_type": "code",
   "execution_count": 61,
   "id": "c0a4fc37",
   "metadata": {},
   "outputs": [],
   "source": [
    "# multi paramtere\n",
    "def add(a,b):\n",
    "    c = a +b\n",
    "    print(c)"
   ]
  },
  {
   "cell_type": "code",
   "execution_count": 64,
   "id": "8fc971e2",
   "metadata": {
    "collapsed": true
   },
   "outputs": [
    {
     "name": "stdout",
     "output_type": "stream",
     "text": [
      "22\n"
     ]
    }
   ],
   "source": [
    "add(10,12)"
   ]
  },
  {
   "cell_type": "code",
   "execution_count": 65,
   "id": "bd1ea942",
   "metadata": {},
   "outputs": [],
   "source": [
    "def add(a=0,b=0):\n",
    "    c = a + b\n",
    "    print(c)"
   ]
  },
  {
   "cell_type": "code",
   "execution_count": 66,
   "id": "cb5779ff",
   "metadata": {
    "collapsed": true
   },
   "outputs": [
    {
     "name": "stdout",
     "output_type": "stream",
     "text": [
      "0\n"
     ]
    }
   ],
   "source": [
    "add()"
   ]
  },
  {
   "cell_type": "code",
   "execution_count": 67,
   "id": "5257b960",
   "metadata": {
    "collapsed": true
   },
   "outputs": [
    {
     "name": "stdout",
     "output_type": "stream",
     "text": [
      "15\n"
     ]
    }
   ],
   "source": [
    "add(15)"
   ]
  },
  {
   "cell_type": "code",
   "execution_count": 68,
   "id": "28e2794e",
   "metadata": {
    "collapsed": true
   },
   "outputs": [
    {
     "name": "stdout",
     "output_type": "stream",
     "text": [
      "63\n"
     ]
    }
   ],
   "source": [
    "add(15,48)"
   ]
  },
  {
   "cell_type": "markdown",
   "id": "7e3938e1",
   "metadata": {},
   "source": [
    "# create a function for sub, mul, div, square, reminder for given 2 values"
   ]
  },
  {
   "cell_type": "code",
   "execution_count": 71,
   "id": "4e08e625",
   "metadata": {},
   "outputs": [],
   "source": [
    "def Ar_op(a,b):\n",
    "    sub = a - b\n",
    "    mul = a *b\n",
    "    div = a/b\n",
    "    sq_a = a ** 2\n",
    "    sq_b = b **2\n",
    "    rem = a%b\n",
    "    result = {'Sub':sub,\n",
    "             'Mul':mul,\n",
    "             \"div\":div,\n",
    "             'Sq_a':sq_a,\n",
    "             'Sq_b':sq_b,\n",
    "             'remider':rem}\n",
    "    print(result)"
   ]
  },
  {
   "cell_type": "code",
   "execution_count": 72,
   "id": "31d79d43",
   "metadata": {},
   "outputs": [
    {
     "name": "stdout",
     "output_type": "stream",
     "text": [
      "{'Sub': -1, 'Mul': 30, 'div': 0.8333333333333334, 'Sq_a': 25, 'Sq_b': 36, 'remider': 5}\n"
     ]
    }
   ],
   "source": [
    "Ar_op(5,6)"
   ]
  },
  {
   "cell_type": "markdown",
   "id": "4cb15367",
   "metadata": {},
   "source": [
    "# create a function to get table of a number."
   ]
  },
  {
   "cell_type": "code",
   "execution_count": null,
   "id": "aba25f07",
   "metadata": {},
   "outputs": [],
   "source": [
    "Task 10: \n",
    "create a 3 user defined function with parameters, r, B,h, taking value by the user input, and calculate the \n",
    "valume spear --> v = 4/3 * math.pi * r**3 \n",
    "area of triangle --> A = 1/2 *b * h\n",
    "distance of two points --> d = math.sqrt((x2 - x1)**2 + (y2 - y1)**2))\n",
    "Slope of line --> m = (y2 - y1) / (x2 - x1)"
   ]
  }
 ],
 "metadata": {
  "kernelspec": {
   "display_name": "Python 3 (ipykernel)",
   "language": "python",
   "name": "python3"
  },
  "language_info": {
   "codemirror_mode": {
    "name": "ipython",
    "version": 3
   },
   "file_extension": ".py",
   "mimetype": "text/x-python",
   "name": "python",
   "nbconvert_exporter": "python",
   "pygments_lexer": "ipython3",
   "version": "3.11.5"
  },
  "widgets": {
   "application/vnd.jupyter.widget-state+json": {
    "state": {},
    "version_major": 2,
    "version_minor": 0
   }
  }
 },
 "nbformat": 4,
 "nbformat_minor": 5
}
