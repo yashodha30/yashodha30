{
 "cells": [
  {
   "cell_type": "markdown",
   "id": "86b61468-2ae1-4b41-b4c9-cb175aa68481",
   "metadata": {},
   "source": [
    "# a. Build 99% Confidence Interval Using Sample Standard Deviation\n",
    "\n",
    "### Assuming the sample is representative of the population, construct a 99% confidence interval for the mean number of characters printed before the print-head fails using the sample standard deviation. Explain the steps you take and the rationale behind using the t-distribution for this task.\n"
   ]
  },
  {
   "cell_type": "code",
   "execution_count": 1,
   "id": "4821f43c-4d12-41ce-89a7-4494427e871c",
   "metadata": {},
   "outputs": [],
   "source": [
    "import numpy as np\n",
    "from scipy import stats"
   ]
  },
  {
   "cell_type": "code",
   "execution_count": 3,
   "id": "6ee70e14-ba68-488b-ba71-d1eed2da2490",
   "metadata": {},
   "outputs": [],
   "source": [
    "data = [1.13, 1.55, 1.43, 0.92, 1.25, 1.36, 1.32, 0.85, 1.07, 1.48, 1.20, 1.33, 1.18, 1.22, 1.29]"
   ]
  },
  {
   "cell_type": "code",
   "execution_count": 5,
   "id": "966ebbbf-b093-4c66-92b8-c22042906de5",
   "metadata": {},
   "outputs": [],
   "source": [
    "mean = np.mean(data)"
   ]
  },
  {
   "cell_type": "code",
   "execution_count": 7,
   "id": "da80d20d-4c71-46a1-9204-5f2e27455cab",
   "metadata": {},
   "outputs": [],
   "source": [
    "std_dev = np.std(data, ddof=1) \n"
   ]
  },
  {
   "cell_type": "code",
   "execution_count": 13,
   "id": "1a78b868-984b-4028-a32c-a121053e0c8a",
   "metadata": {},
   "outputs": [],
   "source": [
    "n = len(data)\n",
    "confidence_level = 0.99\n",
    "alpha = 1 - confidence_level\n",
    "t_critical = stats.t.ppf(1 - alpha / 2, df=n - 1)"
   ]
  },
  {
   "cell_type": "code",
   "execution_count": 15,
   "id": "4efa4086-ff6c-4e50-a74d-fa2a53d7ede0",
   "metadata": {},
   "outputs": [],
   "source": [
    "margin_of_error = t_critical * (std_dev / np.sqrt(n))"
   ]
  },
  {
   "cell_type": "code",
   "execution_count": 17,
   "id": "80558cf3-b66b-4117-b0b9-74476c6912c9",
   "metadata": {},
   "outputs": [],
   "source": [
    "confidence_interval = (mean - margin_of_error, mean + margin_of_error)"
   ]
  },
  {
   "cell_type": "code",
   "execution_count": 19,
   "id": "433fa8ff-0038-476c-a42f-58cfc4746446",
   "metadata": {},
   "outputs": [
    {
     "name": "stdout",
     "output_type": "stream",
     "text": [
      "Sample Mean: 1.2386666666666666\n",
      "Sample Standard Deviation: 0.19316412956959936\n",
      "T-critical value: 2.976842734370834\n",
      "Margin of Error: 0.14846932822817596\n",
      "99% Confidence Interval: (1.0901973384384906, 1.3871359948948425)\n"
     ]
    }
   ],
   "source": [
    "print(f\"Sample Mean: {mean}\")\n",
    "print(f\"Sample Standard Deviation: {std_dev}\")\n",
    "print(f\"T-critical value: {t_critical}\")\n",
    "print(f\"Margin of Error: {margin_of_error}\")\n",
    "print(f\"99% Confidence Interval: {confidence_interval}\")"
   ]
  },
  {
   "cell_type": "markdown",
   "id": "c98d5a3d-24a7-4d89-9852-27515b0073c5",
   "metadata": {},
   "source": [
    "# b. Build 99% Confidence Interval Using Known Population Standard Deviation\n",
    "\n",
    "### If it were known that the population standard deviation is 0.2 million characters, construct a 99% confidence interval for the mean number of characters printed before failure."
   ]
  },
  {
   "cell_type": "code",
   "execution_count": 26,
   "id": "3315fedd-6097-46b1-b761-53dc4b95b3f0",
   "metadata": {},
   "outputs": [],
   "source": [
    "import numpy as np\n",
    "from scipy import stats"
   ]
  },
  {
   "cell_type": "code",
   "execution_count": 28,
   "id": "259ea0e7-5087-4980-b453-95dd922ad9be",
   "metadata": {},
   "outputs": [],
   "source": [
    "data = np.array([1.13, 1.55, 1.43, 0.92, 1.25, 1.36, 1.32, 0.85, 1.07, 1.48, 1.20, 1.33, 1.18, 1.22, 1.29])\n",
    "sigma = 0.2 \n",
    "confidence_level = 0.99"
   ]
  },
  {
   "cell_type": "code",
   "execution_count": 30,
   "id": "6c39336d-528c-401d-9113-919f9aff16bb",
   "metadata": {},
   "outputs": [],
   "source": [
    "sample_mean = np.mean(data)"
   ]
  },
  {
   "cell_type": "code",
   "execution_count": 32,
   "id": "97d8153a-f94f-499d-a893-df9d5c8686e8",
   "metadata": {},
   "outputs": [],
   "source": [
    "n = len(data)"
   ]
  },
  {
   "cell_type": "code",
   "execution_count": 34,
   "id": "387b61f1-3b23-4010-8450-06e469632b4b",
   "metadata": {},
   "outputs": [],
   "source": [
    "z_score = stats.norm.ppf(1 - (1 - confidence_level) / 2)"
   ]
  },
  {
   "cell_type": "code",
   "execution_count": 36,
   "id": "614aae11-1a12-4cad-88f6-740c426dd143",
   "metadata": {},
   "outputs": [],
   "source": [
    "margin_of_error = z_score * (sigma / np.sqrt(n))"
   ]
  },
  {
   "cell_type": "code",
   "execution_count": 38,
   "id": "e0a059e9-9b65-4fba-9547-2c4074f554a6",
   "metadata": {},
   "outputs": [],
   "source": [
    "confidence_interval = (sample_mean - margin_of_error, sample_mean + margin_of_error)"
   ]
  },
  {
   "cell_type": "code",
   "execution_count": 40,
   "id": "9a731eb5-a3fb-4907-af60-17bc56a19e1c",
   "metadata": {},
   "outputs": [
    {
     "name": "stdout",
     "output_type": "stream",
     "text": [
      "Sample Mean: 1.2386666666666666\n",
      "99% Confidence Interval: (1.1056514133957607, 1.3716819199375725)\n"
     ]
    }
   ],
   "source": [
    "print(\"Sample Mean:\", sample_mean)\n",
    "print(\"99% Confidence Interval:\", confidence_interval)"
   ]
  },
  {
   "cell_type": "code",
   "execution_count": null,
   "id": "a3e346ea-a1f7-4c9e-95ee-89b2f258c690",
   "metadata": {},
   "outputs": [],
   "source": []
  },
  {
   "cell_type": "code",
   "execution_count": null,
   "id": "089f20f1-a992-407e-9d31-d7ae6a2dfdf7",
   "metadata": {},
   "outputs": [],
   "source": []
  }
 ],
 "metadata": {
  "kernelspec": {
   "display_name": "Python 3 (ipykernel)",
   "language": "python",
   "name": "python3"
  },
  "language_info": {
   "codemirror_mode": {
    "name": "ipython",
    "version": 3
   },
   "file_extension": ".py",
   "mimetype": "text/x-python",
   "name": "python",
   "nbconvert_exporter": "python",
   "pygments_lexer": "ipython3",
   "version": "3.12.4"
  }
 },
 "nbformat": 4,
 "nbformat_minor": 5
}
